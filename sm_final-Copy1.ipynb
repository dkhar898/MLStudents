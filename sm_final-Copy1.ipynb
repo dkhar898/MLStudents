{
 "cells": [
  {
   "cell_type": "code",
   "execution_count": 208,
   "metadata": {},
   "outputs": [],
   "source": [
    "import pandas as pd"
   ]
  },
  {
   "cell_type": "code",
   "execution_count": 209,
   "metadata": {},
   "outputs": [],
   "source": [
    "train  = pd.read_csv(\"train_dataset_train.csv\")"
   ]
  },
  {
   "cell_type": "code",
   "execution_count": 210,
   "metadata": {},
   "outputs": [],
   "source": [
    "test = pd.read_csv(\"test_dataset_test.csv\")"
   ]
  },
  {
   "cell_type": "code",
   "execution_count": 211,
   "metadata": {},
   "outputs": [],
   "source": [
    "train.loc[train[\"Год_Поступления\"] == 2212, \"Год_Поступления\"] = 2012"
   ]
  },
  {
   "cell_type": "code",
   "execution_count": 212,
   "metadata": {},
   "outputs": [],
   "source": [
    "train.loc[train[\"Пол\"] == \"муж\", \"Пол\"] = \"Муж\"\n",
    "test.loc[test[\"Пол\"] == \"жен\", \"Пол\"] = \"Жен\"\n",
    "train.loc[train[\"Пол\"].isna(), \"Пол\"] = \"None\"\n",
    "test.loc[test[\"Пол\"].isna(), \"Пол\"] = \"None\""
   ]
  },
  {
   "cell_type": "code",
   "execution_count": 213,
   "metadata": {},
   "outputs": [],
   "source": [
    "train[\"Изучаемый_Язык\"] = train[\"Изучаемый_Язык\"].fillna(\"None\")\n",
    "test[\"Изучаемый_Язык\"] = test[\"Изучаемый_Язык\"].fillna(\"None\")\n",
    "\n",
    "train.loc[train[\"Изучаемый_Язык\"].apply(lambda x: False if(x is None) else (\"Английский\" in x)), \"Изучаемый_Язык\"] = \"Английский\"\n",
    "train.loc[train[\"Изучаемый_Язык\"].apply(lambda x: False if(x is None) else (\"Англиийский\" in x)), \"Изучаемый_Язык\"] = \"Английский\"\n",
    "train.loc[train[\"Изучаемый_Язык\"].apply(lambda x: False if(x is None) else (\"Немецкий\" in x)), \"Изучаемый_Язык\"] = \"Немецкий\"\n",
    "train.loc[train[\"Изучаемый_Язык\"].apply(lambda x: False if(x is None) else (\"Французский\" in x)), \"Изучаемый_Язык\"] = \"Французский\"\n",
    "\n",
    "test.loc[test[\"Изучаемый_Язык\"].apply(lambda x: False if(x is None) else (\"Английский\" in x)), \"Изучаемый_Язык\"] = \"Английский\"\n",
    "test.loc[test[\"Изучаемый_Язык\"].apply(lambda x: False if(x is None) else (\"Англиийский\" in x)), \"Изучаемый_Язык\"] = \"Английский\"\n",
    "test.loc[test[\"Изучаемый_Язык\"].apply(lambda x: False if(x is None) else (\"Немецкий\" in x)), \"Изучаемый_Язык\"] = \"Немецкий\"\n",
    "test.loc[test[\"Изучаемый_Язык\"].apply(lambda x: False if(x is None) else (\"Французский\" in x)), \"Изучаемый_Язык\"] = \"Французский\""
   ]
  },
  {
   "cell_type": "code",
   "execution_count": 214,
   "metadata": {},
   "outputs": [],
   "source": [
    "def parse_date(x):\n",
    "    year = int(x.split('-')[0])\n",
    "    month = x.split('-')[1]\n",
    "    if(month[0]==\"0\"):\n",
    "        month = month[1]\n",
    "        \n",
    "    month =  int(month)\n",
    "    \n",
    "    return year*12 + month\n",
    "    \n",
    "train[\"Дата_Рождения\"] = train[\"Дата_Рождения\"].apply(parse_date)\n",
    "test[\"Дата_Рождения\"] = test[\"Дата_Рождения\"].apply(parse_date)"
   ]
  },
  {
   "cell_type": "code",
   "execution_count": 215,
   "metadata": {},
   "outputs": [],
   "source": [
    "train[\"Год_Окончания_УЗ\"] = train[\"Год_Окончания_УЗ\"].fillna(-1)\n",
    "test[\"Год_Окончания_УЗ\"] = test[\"Год_Окончания_УЗ\"].fillna(-1)"
   ]
  },
  {
   "cell_type": "code",
   "execution_count": 216,
   "metadata": {},
   "outputs": [],
   "source": [
    "train[\"gape\"] = train[\"Год_Поступления\"].values - train[\"Год_Окончания_УЗ\"].values\n",
    "test[\"gape\"] = test[\"Год_Поступления\"].values - test[\"Год_Окончания_УЗ\"].values"
   ]
  },
  {
   "cell_type": "code",
   "execution_count": 217,
   "metadata": {},
   "outputs": [],
   "source": [
    "def parse_post(x):\n",
    "    return x*12 + 9\n",
    "    \n",
    "train[\"gape_age\"] = train[\"Год_Поступления\"].fillna(-1).apply(parse_post).values - train[\"Дата_Рождения\"].values\n",
    "test[\"gape_age\"] = test[\"Год_Поступления\"].fillna(-1).apply(parse_post).values - test[\"Дата_Рождения\"].values"
   ]
  },
  {
   "cell_type": "code",
   "execution_count": 218,
   "metadata": {},
   "outputs": [],
   "source": [
    "train[\"Пособие\"] = train[\"Пособие\"].fillna(-1)\n",
    "test[\"Пособие\"] = test[\"Пособие\"].fillna(-1)"
   ]
  },
  {
   "cell_type": "code",
   "execution_count": 219,
   "metadata": {},
   "outputs": [],
   "source": [
    "def find_lcsubstr(s1, s2):\n",
    "    m = [[0 for i in range(len(s2) + 1)] for j in range(len(s1) + 1)]  # Сгенерировать матрицу 0, чтобы облегчить последующие вычисления, на один столбец больше, чем длина строки\n",
    "    mmax = 0  # Длина самого длинного совпадения\n",
    "    p = 0  # Самое длинное совпадение соответствует последнему биту в s1\n",
    "    for i in range(len(s1)):\n",
    "        for j in range(len(s2)):\n",
    "            if s1[i] == s2[j]: # Если равно, добавить существующую общую подстроку\n",
    "                m[i + 1][j + 1] = m[i][j] + 1\n",
    "                if m[i + 1][j + 1] > mmax:\n",
    "                    mmax = m[i + 1][j + 1]\n",
    "                    p = i + 1\n",
    "    return s1[p - mmax:p], mmax\n",
    "\n",
    "names = [\"Страна_ПП\", \"Страна_Родители\", \"Город_ПП\", \"Регион_ПП\", \"Где_Находится_УЗ\", \"Уч_Заведение\"]\n",
    "\n",
    "for i in range(len(names)-1):\n",
    "    for j in range(i + 1, len(names)):\n",
    "        v = []\n",
    "        for x, y in zip(train[names[i]], train[names[j]]):\n",
    "            if pd.notnull(x) and pd.notnull(y):\n",
    "                #print(i, j, x,y)\n",
    "                val = find_lcsubstr(x, y)[1]/min(len(x), len(y))\n",
    "                v.append(val)\n",
    "            else:\n",
    "                v.append(-1)\n",
    "\n",
    "    train[names[i] + '_' + names[j] + \"_diff\"] = v"
   ]
  },
  {
   "cell_type": "code",
   "execution_count": 220,
   "metadata": {},
   "outputs": [],
   "source": [
    "names = [\"Страна_ПП\", \"Страна_Родители\", \"Город_ПП\", \"Регион_ПП\", \"Где_Находится_УЗ\", \"Уч_Заведение\"]\n",
    "\n",
    "for i in range(len(names)-1):\n",
    "    for j in range(i + 1, len(names)):\n",
    "        v = []\n",
    "        for x, y in zip(test[names[i]], test[names[j]]):\n",
    "            if pd.notnull(x) and pd.notnull(y):\n",
    "                val = find_lcsubstr(x, y)[1]/min(len(x), len(y))\n",
    "                v.append(val)\n",
    "            else:\n",
    "                v.append(-1)\n",
    "\n",
    "    test[names[i] + '_' + names[j] + \"_diff\"] = v"
   ]
  },
  {
   "cell_type": "code",
   "execution_count": 221,
   "metadata": {},
   "outputs": [],
   "source": [
    "train[\"Страна_ПП\"] = train[\"Страна_ПП\"].fillna(\"None\")\n",
    "test[\"Страна_ПП\"] = test[\"Страна_ПП\"].fillna(\"None\")\n",
    "\n",
    "train[\"Страна_ПП\"] = train[\"Страна_ПП\"].apply(lambda x: x.lower())\n",
    "test[\"Страна_ПП\"] = test[\"Страна_ПП\"].apply(lambda x: x.lower())\n",
    "\n",
    "\n",
    "train.loc[train[\"Страна_ПП\"].apply(lambda x: (\"казах\" in x)), \"Страна_ПП\"] = \"казах\"\n",
    "train.loc[train[\"Страна_ПП\"].apply(lambda x: (\"таджик\" in x)), \"Страна_ПП\"] = \"таджик\"\n",
    "train.loc[train[\"Страна_ПП\"].apply(lambda x: (\"кырг\" in x)or(\"кирг\" in x)), \"Страна_ПП\"] = \"кырг\"\n",
    "train.loc[train[\"Страна_ПП\"].apply(lambda x: (\"росс\" in x)), \"Страна_ПП\"] = \"росс\"\n",
    "\n",
    "test.loc[test[\"Страна_ПП\"].apply(lambda x: (\"казах\" in x)), \"Страна_ПП\"] = \"казах\"\n",
    "test.loc[test[\"Страна_ПП\"].apply(lambda x: (\"таджик\" in x)), \"Страна_ПП\"] = \"таджик\"\n",
    "test.loc[test[\"Страна_ПП\"].apply(lambda x: (\"кырг\" in x)or(\"кирг\" in x)), \"Страна_ПП\"] = \"кырг\"\n",
    "test.loc[test[\"Страна_ПП\"].apply(lambda x: (\"росс\" in x)), \"Страна_ПП\"] = \"росс\""
   ]
  },
  {
   "cell_type": "code",
   "execution_count": 222,
   "metadata": {},
   "outputs": [],
   "source": [
    "train[\"Общежитие\"] = train[\"Общежитие\"].fillna(-1)\n",
    "test[\"Общежитие\"] = test[\"Общежитие\"].fillna(-1)\n",
    "\n",
    "train[\"Наличие_Матери\"] = train[\"Наличие_Матери\"].fillna(-1)\n",
    "test[\"Наличие_Матери\"] = test[\"Наличие_Матери\"].fillna(-1)\n",
    "\n",
    "train[\"Наличие_Отца\"] = train[\"Наличие_Отца\"].fillna(-1)\n",
    "test[\"Наличие_Отца\"] = test[\"Наличие_Отца\"].fillna(-1)\n"
   ]
  },
  {
   "cell_type": "code",
   "execution_count": 223,
   "metadata": {},
   "outputs": [],
   "source": [
    "train[\"Страна_Родители\"] = train[\"Страна_Родители\"].fillna(\"None\")\n",
    "\n",
    "\n",
    "train[\"Страна_Родители\"] = train[\"Страна_Родители\"].apply(lambda x: x.lower())\n",
    "\n",
    "\n",
    "train.loc[train[\"Страна_Родители\"].apply(lambda x: (\"казах\" in x)), \"Страна_Родители\"] = \"казах\"\n",
    "train.loc[train[\"Страна_Родители\"].apply(lambda x: (\"таджик\" in x)), \"Страна_Родители\"] = \"таджик\"\n",
    "train.loc[train[\"Страна_Родители\"].apply(lambda x: (\"кырг\" in x)or(\"кирг\" in x)), \"Страна_Родители\"] = \"кырг\"\n",
    "train.loc[train[\"Страна_Родители\"].apply(lambda x: (\"росс\" in x)), \"Страна_Родители\"] = \"росс\"\n",
    "train.loc[train[\"Страна_Родители\"].apply(lambda x: (\"кнр\" in x)), \"Страна_Родители\"] = \"китай\"\n",
    "\n",
    "\n",
    "test[\"Страна_Родители\"] = test[\"Страна_Родители\"].fillna(\"None\")\n",
    "\n",
    "\n",
    "test[\"Страна_Родители\"] = test[\"Страна_Родители\"].apply(lambda x: x.lower())\n",
    "\n",
    "\n",
    "test.loc[test[\"Страна_Родители\"].apply(lambda x: (\"казах\" in x)), \"Страна_Родители\"] = \"казах\"\n",
    "test.loc[test[\"Страна_Родители\"].apply(lambda x: (\"таджик\" in x)), \"Страна_Родители\"] = \"таджик\"\n",
    "test.loc[test[\"Страна_Родители\"].apply(lambda x: (\"кырг\" in x)or(\"кирг\" in x)), \"Страна_Родители\"] = \"кырг\"\n",
    "test.loc[test[\"Страна_Родители\"].apply(lambda x: (\"росс\" in x)), \"Страна_Родители\"] = \"росс\"\n",
    "test.loc[test[\"Страна_Родители\"].apply(lambda x: (\"кнр\" in x)), \"Страна_Родители\"] = \"китай\"\n"
   ]
  },
  {
   "cell_type": "code",
   "execution_count": 224,
   "metadata": {},
   "outputs": [],
   "source": [
    "train[\"Иностранец\"] = train[\"Иностранец\"].fillna(-1)\n",
    "test[\"Иностранец\"] = test[\"Иностранец\"].fillna(-1)\n",
    "\n",
    "train[\"Опекунство\"] = train[\"Опекунство\"].fillna(-1)\n",
    "test[\"Опекунство\"] = test[\"Опекунство\"].fillna(-1)\n",
    "\n",
    "train[\"Село\"] = train[\"Село\"].fillna(-1)\n",
    "test[\"Село\"] = test[\"Село\"].fillna(-1)"
   ]
  },
  {
   "cell_type": "code",
   "execution_count": 225,
   "metadata": {},
   "outputs": [],
   "source": [
    "from collections import Counter\n",
    "ct = Counter()\n",
    "for st in train[~train[\"Уч_Заведение\"].isna()][\"Уч_Заведение\"]:\n",
    "    #print(x)\n",
    "    st = st.lower()\n",
    "    rez = ''.join([x if(x.isalpha()or x.isdigit()) else ' ' for x in st])\n",
    "    ct += Counter( rez.split() ) \n",
    "\n",
    "filtered_words = set([word for word, freq in ct.most_common() if freq>20])\n",
    "words2id  = {word:i for i, word in enumerate(filtered_words)}\n",
    "id2word = {v:k for k,v in words2id.items()}\n",
    "\n",
    "def transform_place(st, words2id):\n",
    "    x = np.zeros((len(words2id), ))\n",
    "    \n",
    "    if pd.notnull(st):\n",
    "        st = st.lower()\n",
    "        rez = ''.join([x if(x.isalpha() or x.isdigit()) else ' ' for x in st]).split()\n",
    "        for w in rez:\n",
    "            if w in words2id:\n",
    "                x[words2id[w]] += 1\n",
    "    return x"
   ]
  },
  {
   "cell_type": "code",
   "execution_count": 226,
   "metadata": {},
   "outputs": [],
   "source": [
    "import numpy as np\n",
    "A = np.vstack(train[\"Уч_Заведение\"].apply(lambda x: transform_place(x, words2id)).tolist())\n",
    "uchzavdf = pd.DataFrame(A, columns = [id2word[i]+\"_учзав\" for i in range(len(filtered_words))])"
   ]
  },
  {
   "cell_type": "code",
   "execution_count": 227,
   "metadata": {},
   "outputs": [],
   "source": [
    "A = np.vstack(test[\"Уч_Заведение\"].apply(lambda x: transform_place(x, words2id)).tolist())\n",
    "uchzavdf_test = pd.DataFrame(A, columns = [id2word[i]+\"_учзав\" for i in range(len(filtered_words))])"
   ]
  },
  {
   "cell_type": "code",
   "execution_count": 228,
   "metadata": {},
   "outputs": [],
   "source": [
    "def cityf(st):\n",
    "    r = ''\n",
    "    if pd.notnull(st):\n",
    "    \n",
    "        for w in st.split(' '):\n",
    "            if(len(w)==0):\n",
    "                continue\n",
    "            if(w[0].isupper()):\n",
    "                r += w\n",
    "        \n",
    "    if(len(r) == 0):\n",
    "        r = 'none'\n",
    "    return r\n",
    "\n",
    "train[\"Город_ПП\"] = train[\"Город_ПП\"].apply(cityf)\n",
    "test[\"Город_ПП\"] = test[\"Город_ПП\"].apply(cityf)"
   ]
  },
  {
   "cell_type": "code",
   "execution_count": 229,
   "metadata": {},
   "outputs": [],
   "source": [
    "train[\"Регион_ПП\"] = train[\"Регион_ПП\"].fillna(\"none\")\n",
    "train[\"Регион_ПП\"] = train[\"Регион_ПП\"].apply(lambda a: a.lower())\n",
    "\n",
    "test[\"Регион_ПП\"] = test[\"Регион_ПП\"].fillna(\"none\")\n",
    "test[\"Регион_ПП\"] = test[\"Регион_ПП\"].apply(lambda a: a.lower())\n",
    "\n",
    "train[\"reg_pp\"] = train[\"Регион_ПП\"].copy()\n",
    "test[\"reg_pp\"] = test[\"Регион_ПП\"].copy()\n",
    "\n",
    "\n",
    "ss = set([ \"алтайс\",\n",
    " \"казах\",\n",
    " \"тыва\",\n",
    " \"кемер\", \n",
    "  \"саха\",\n",
    "  \"новосиб\",\n",
    "  \"павлодар\",\n",
    " \"алтайс\",\n",
    " \"краснояр\",\n",
    "  \"жалал\",\n",
    " \"хатлон\",\n",
    " \"казах\",\n",
    " \"алмат\",\n",
    " \"ляонин\",\n",
    " \"хайнань\",\n",
    " \"хэйлун\",\n",
    " \"ямало\",\n",
    "  \"томск\",\n",
    "  \"цзилинь\",\n",
    "  \"иркут\",\n",
    "  \"бадах\",\n",
    "  \"иркут\",\n",
    "  \"ханты\"])\n",
    "\n",
    "\n",
    "train.loc[train[\"Регион_ПП\"].apply(lambda x: (\"алтай\" in x)), \"Регион_ПП\"] = \"алтайс\"\n",
    "train.loc[train[\"Регион_ПП\"].apply(lambda x: (\"казах\" in x)), \"Регион_ПП\"] = \"казах\"\n",
    "train.loc[train[\"Регион_ПП\"].apply(lambda x: (\"тыва\" in x)), \"Регион_ПП\"] = \"тыва\"\n",
    "train.loc[train[\"Регион_ПП\"].apply(lambda x: (\"кемер\" in x)), \"Регион_ПП\"] = \"кемер\"\n",
    "train.loc[train[\"Регион_ПП\"].apply(lambda x: (\"саха\" in x)), \"Регион_ПП\"] = \"саха\"\n",
    "train.loc[train[\"Регион_ПП\"].apply(lambda x: (\"новосиб\" in x)), \"Регион_ПП\"] = \"новосиб\"\n",
    "train.loc[train[\"Регион_ПП\"].apply(lambda x: (\"павлодар\" in x)), \"Регион_ПП\"] = \"павлодар\"\n",
    "train.loc[train[\"Регион_ПП\"].apply(lambda x: (\"алай\" in x)), \"Регион_ПП\"] = \"алтайс\"\n",
    "train.loc[train[\"Регион_ПП\"].apply(lambda x: (\"краснояр\" in x)), \"Регион_ПП\"] = \"краснояр\"\n",
    "train.loc[train[\"Регион_ПП\"].apply(lambda x: (\"жалал\" in x)), \"Регион_ПП\"] = \"жалал\"\n",
    "train.loc[train[\"Регион_ПП\"].apply(lambda x: (\"хатлон\" in x)), \"Регион_ПП\"] = \"хатлон\"\n",
    "train.loc[train[\"Регион_ПП\"].apply(lambda x: (\"вко\" in x)), \"Регион_ПП\"] = \"казах\"\n",
    "train.loc[train[\"Регион_ПП\"].apply(lambda x: (\"алмат\" in x)), \"Регион_ПП\"] = \"алмат\"\n",
    "train.loc[train[\"Регион_ПП\"].apply(lambda x: (\"ляонин\" in x)), \"Регион_ПП\"] = \"ляонин\"\n",
    "train.loc[train[\"Регион_ПП\"].apply(lambda x: (\"хайнань\" in x)), \"Регион_ПП\"] = \"хайнань\"\n",
    "train.loc[train[\"Регион_ПП\"].apply(lambda x: (\"хэйлун\" in x)), \"Регион_ПП\"] = \"хэйлун\"\n",
    "train.loc[train[\"Регион_ПП\"].apply(lambda x: (\"ямало\" in x)), \"Регион_ПП\"] = \"ямало\"\n",
    "train.loc[train[\"Регион_ПП\"].apply(lambda x: (\"томск\" in x)), \"Регион_ПП\"] = \"томск\"\n",
    "train.loc[train[\"Регион_ПП\"].apply(lambda x: (\"цзилинь\" in x)), \"Регион_ПП\"] = \"цзилинь\"\n",
    "train.loc[train[\"Регион_ПП\"].apply(lambda x: (\"иркут\" in x)), \"Регион_ПП\"] = \"иркут\"\n",
    "train.loc[train[\"Регион_ПП\"].apply(lambda x: (\"бадах\" in x)), \"Регион_ПП\"] = \"бадах\"\n",
    "train.loc[train[\"Регион_ПП\"].apply(lambda x: (\"иркут\" in x)), \"Регион_ПП\"] = \"иркут\"\n",
    "train.loc[train[\"Регион_ПП\"].apply(lambda x: (\"ханты\" in x)), \"Регион_ПП\"] = \"ханты\"\n",
    "train.loc[train[\"Регион_ПП\"].apply(lambda x: (\"омск\" in x)), \"Регион_ПП\"] = \"омск\"\n",
    "\n",
    "train.loc[~train[\"Регион_ПП\"].isin(ss), \"Регион_ПП\"] = \"rare\"\n",
    "\n",
    "\n",
    "test.loc[test[\"Регион_ПП\"].apply(lambda x: (\"алтай\" in x)), \"Регион_ПП\"] = \"алтайс\"\n",
    "test.loc[test[\"Регион_ПП\"].apply(lambda x: (\"казах\" in x)), \"Регион_ПП\"] = \"казах\"\n",
    "test.loc[test[\"Регион_ПП\"].apply(lambda x: (\"тыва\" in x)), \"Регион_ПП\"] = \"тыва\"\n",
    "test.loc[test[\"Регион_ПП\"].apply(lambda x: (\"кемер\" in x)), \"Регион_ПП\"] = \"кемер\"\n",
    "test.loc[test[\"Регион_ПП\"].apply(lambda x: (\"саха\" in x)), \"Регион_ПП\"] = \"саха\"\n",
    "test.loc[test[\"Регион_ПП\"].apply(lambda x: (\"новосиб\" in x)), \"Регион_ПП\"] = \"новосиб\"\n",
    "test.loc[test[\"Регион_ПП\"].apply(lambda x: (\"павлодар\" in x)), \"Регион_ПП\"] = \"павлодар\"\n",
    "test.loc[test[\"Регион_ПП\"].apply(lambda x: (\"алай\" in x)), \"Регион_ПП\"] = \"алтайс\"\n",
    "test.loc[test[\"Регион_ПП\"].apply(lambda x: (\"краснояр\" in x)), \"Регион_ПП\"] = \"краснояр\"\n",
    "test.loc[test[\"Регион_ПП\"].apply(lambda x: (\"жалал\" in x)), \"Регион_ПП\"] = \"жалал\"\n",
    "test.loc[test[\"Регион_ПП\"].apply(lambda x: (\"хатлон\" in x)), \"Регион_ПП\"] = \"хатлон\"\n",
    "test.loc[test[\"Регион_ПП\"].apply(lambda x: (\"вко\" in x)), \"Регион_ПП\"] = \"казах\"\n",
    "test.loc[test[\"Регион_ПП\"].apply(lambda x: (\"алмат\" in x)), \"Регион_ПП\"] = \"алмат\"\n",
    "test.loc[test[\"Регион_ПП\"].apply(lambda x: (\"ляонин\" in x)), \"Регион_ПП\"] = \"ляонин\"\n",
    "test.loc[test[\"Регион_ПП\"].apply(lambda x: (\"хайнань\" in x)), \"Регион_ПП\"] = \"хайнань\"\n",
    "test.loc[test[\"Регион_ПП\"].apply(lambda x: (\"хэйлун\" in x)), \"Регион_ПП\"] = \"хэйлун\"\n",
    "test.loc[test[\"Регион_ПП\"].apply(lambda x: (\"ямало\" in x)), \"Регион_ПП\"] = \"ямало\"\n",
    "test.loc[test[\"Регион_ПП\"].apply(lambda x: (\"томск\" in x)), \"Регион_ПП\"] = \"томск\"\n",
    "test.loc[test[\"Регион_ПП\"].apply(lambda x: (\"цзилинь\" in x)), \"Регион_ПП\"] = \"цзилинь\"\n",
    "test.loc[test[\"Регион_ПП\"].apply(lambda x: (\"иркут\" in x)), \"Регион_ПП\"] = \"иркут\"\n",
    "test.loc[test[\"Регион_ПП\"].apply(lambda x: (\"бадах\" in x)), \"Регион_ПП\"] = \"бадах\"\n",
    "test.loc[test[\"Регион_ПП\"].apply(lambda x: (\"иркут\" in x)), \"Регион_ПП\"] = \"иркут\"\n",
    "test.loc[test[\"Регион_ПП\"].apply(lambda x: (\"ханты\" in x)), \"Регион_ПП\"] = \"ханты\"\n",
    "test.loc[test[\"Регион_ПП\"].apply(lambda x: (\"омск\" in x)), \"Регион_ПП\"] = \"омск\"\n",
    "\n",
    "test.loc[~test[\"Регион_ПП\"].isin(ss), \"Регион_ПП\"] = \"rare\"\n"
   ]
  },
  {
   "cell_type": "code",
   "execution_count": 230,
   "metadata": {},
   "outputs": [],
   "source": [
    "train[\"Где_Находится_УЗ\"] = train[\"Где_Находится_УЗ\"].fillna(\"none\")\n",
    "train[\"Где_Находится_УЗ\"] = train[\"Где_Находится_УЗ\"].apply(lambda a:a.split(\",\")[-1]).apply(cityf)\n",
    "\n",
    "test[\"Где_Находится_УЗ\"] = test[\"Где_Находится_УЗ\"].fillna(\"none\")\n",
    "test[\"Где_Находится_УЗ\"] = test[\"Где_Находится_УЗ\"].apply(lambda a:a.split(\",\")[-1]).apply(cityf)"
   ]
  },
  {
   "cell_type": "code",
   "execution_count": 231,
   "metadata": {},
   "outputs": [],
   "source": [
    "train[\"reg_pp\"] = train[\"reg_pp\"].fillna(\"none\")\n",
    "test[\"reg_pp\"] = test[\"reg_pp\"].fillna(\"none\")\n",
    "\n",
    "\n",
    "train[\"Уч_Заведение\"] = train[\"Уч_Заведение\"].fillna(\"none\")\n",
    "test[\"Уч_Заведение\"] = test[\"Уч_Заведение\"].fillna(\"none\")"
   ]
  },
  {
   "cell_type": "code",
   "execution_count": 232,
   "metadata": {},
   "outputs": [],
   "source": [
    "df = pd.concat([train, test], axis=0)\n",
    "count_name = \"Код_группы_count\"\n",
    "name = \"Код_группы\"\n",
    "work_count = df[[name]].copy()\n",
    "work_count[count_name] = 1\n",
    "work_count = work_count.groupby(name).sum().reset_index()"
   ]
  },
  {
   "cell_type": "code",
   "execution_count": 233,
   "metadata": {},
   "outputs": [],
   "source": [
    "sg = set(df[df[\"СрБаллАттестата\"]>5][\"Код_группы\"])&set(df[df[\"СрБаллАттестата\"]<=5][\"Код_группы\"])\n",
    "a = np.zeros((len(train), ))\n",
    "a[train[\"Код_группы\"].isin(sg)] = 1\n",
    "train[\"Strange_disp\"] = a\n",
    "\n",
    "a = np.zeros((len(test), ))\n",
    "a[test[\"Код_группы\"].isin(sg)] = 1\n",
    "test[\"Strange_disp\"] = a"
   ]
  },
  {
   "cell_type": "code",
   "execution_count": 234,
   "metadata": {},
   "outputs": [],
   "source": [
    "a = np.array(list(set(df[\"Код_группы\"].values)))\n",
    "a.sort()\n",
    "b = np.hstack([np.array([-1]), a[1:] - a[:-1]])\n",
    "work_diff = pd.DataFrame.from_dict({\"Код_группы\":a, \"diff_group\":b})"
   ]
  },
  {
   "cell_type": "code",
   "execution_count": 235,
   "metadata": {},
   "outputs": [],
   "source": [
    "a = np.array(list(set(df[\"Код_группы\"].values)))\n",
    "a.sort()\n",
    "b = np.hstack([a[1:] - a[:-1], np.array([-1])])\n",
    "work_diff_inv = pd.DataFrame.from_dict({\"Код_группы\":a, \"diff_group_inv\":b})"
   ]
  },
  {
   "cell_type": "code",
   "execution_count": 236,
   "metadata": {},
   "outputs": [],
   "source": [
    "import numpy as np\n",
    "a = np.array(list(set(df[\"ID\"].values)))\n",
    "a.sort()\n",
    "b = np.hstack([np.array([-1]), a[1:] - a[:-1]])\n",
    "dfid = pd.DataFrame.from_dict({\"ID\":a, \"diff_ID\":b})"
   ]
  },
  {
   "cell_type": "code",
   "execution_count": 237,
   "metadata": {},
   "outputs": [],
   "source": [
    "import numpy as np\n",
    "a = np.array(list(set(df[\"ID\"].values)))\n",
    "a.sort()\n",
    "b = np.hstack([a[1:] - a[:-1], np.array([-1])])\n",
    "dfidinv = pd.DataFrame.from_dict({\"ID\":a, \"diff_ID_ind\":b})"
   ]
  },
  {
   "cell_type": "code",
   "execution_count": 238,
   "metadata": {},
   "outputs": [],
   "source": [
    "cat_feat = [\"Пол\", \"Основания\", \"Изучаемый_Язык\", \"Пособие\", \n",
    "            \"Страна_ПП\", \"Общежитие\", \"Наличие_Матери\", \"Наличие_Отца\", \"Страна_Родители\", \"Опекунство\", \n",
    "            \"Село\", \"Иностранец\", \"КодФакультета\", \"Город_ПП\", \"Регион_ПП\", \"Где_Находится_УЗ\", \"Уч_Заведение\", \"reg_pp\"]"
   ]
  },
  {
   "cell_type": "code",
   "execution_count": 239,
   "metadata": {},
   "outputs": [],
   "source": [
    "drop_feat = [ \"Статус\"] # 'ID', \"Код_группы\","
   ]
  },
  {
   "cell_type": "code",
   "execution_count": 240,
   "metadata": {},
   "outputs": [],
   "source": [
    "feature_columns = list(train.columns.values)\n",
    "for x in drop_feat:\n",
    "    feature_columns.remove(x)"
   ]
  },
  {
   "cell_type": "code",
   "execution_count": 241,
   "metadata": {},
   "outputs": [
    {
     "data": {
      "text/html": [
       "<div>\n",
       "<style scoped>\n",
       "    .dataframe tbody tr th:only-of-type {\n",
       "        vertical-align: middle;\n",
       "    }\n",
       "\n",
       "    .dataframe tbody tr th {\n",
       "        vertical-align: top;\n",
       "    }\n",
       "\n",
       "    .dataframe thead th {\n",
       "        text-align: right;\n",
       "    }\n",
       "</style>\n",
       "<table border=\"1\" class=\"dataframe\">\n",
       "  <thead>\n",
       "    <tr style=\"text-align: right;\">\n",
       "      <th></th>\n",
       "      <th>ID</th>\n",
       "      <th>Код_группы</th>\n",
       "      <th>Год_Поступления</th>\n",
       "      <th>Пол</th>\n",
       "      <th>Основания</th>\n",
       "      <th>Изучаемый_Язык</th>\n",
       "      <th>Дата_Рождения</th>\n",
       "      <th>Уч_Заведение</th>\n",
       "      <th>Где_Находится_УЗ</th>\n",
       "      <th>Год_Окончания_УЗ</th>\n",
       "      <th>...</th>\n",
       "      <th>СрБаллАттестата</th>\n",
       "      <th>gape</th>\n",
       "      <th>gape_age</th>\n",
       "      <th>Страна_ПП_Уч_Заведение_diff</th>\n",
       "      <th>Страна_Родители_Уч_Заведение_diff</th>\n",
       "      <th>Город_ПП_Уч_Заведение_diff</th>\n",
       "      <th>Регион_ПП_Уч_Заведение_diff</th>\n",
       "      <th>Где_Находится_УЗ_Уч_Заведение_diff</th>\n",
       "      <th>reg_pp</th>\n",
       "      <th>Strange_disp</th>\n",
       "    </tr>\n",
       "  </thead>\n",
       "  <tbody>\n",
       "    <tr>\n",
       "      <th>0</th>\n",
       "      <td>72716</td>\n",
       "      <td>16019</td>\n",
       "      <td>2015</td>\n",
       "      <td>Жен</td>\n",
       "      <td>ОО</td>\n",
       "      <td>Английский</td>\n",
       "      <td>23978</td>\n",
       "      <td>МБОУ \"СОШ №59\"</td>\n",
       "      <td>Барнаул</td>\n",
       "      <td>2014.0</td>\n",
       "      <td>...</td>\n",
       "      <td>4.294</td>\n",
       "      <td>1.0</td>\n",
       "      <td>211</td>\n",
       "      <td>0.000000</td>\n",
       "      <td>0.000000</td>\n",
       "      <td>0.111111</td>\n",
       "      <td>0.071429</td>\n",
       "      <td>0.071429</td>\n",
       "      <td>алтайский край</td>\n",
       "      <td>0.0</td>\n",
       "    </tr>\n",
       "    <tr>\n",
       "      <th>1</th>\n",
       "      <td>63306</td>\n",
       "      <td>14895</td>\n",
       "      <td>2010</td>\n",
       "      <td>Муж</td>\n",
       "      <td>ЦН</td>\n",
       "      <td>None</td>\n",
       "      <td>23908</td>\n",
       "      <td>none</td>\n",
       "      <td>none</td>\n",
       "      <td>-1.0</td>\n",
       "      <td>...</td>\n",
       "      <td>67.000</td>\n",
       "      <td>2011.0</td>\n",
       "      <td>221</td>\n",
       "      <td>-1.000000</td>\n",
       "      <td>-1.000000</td>\n",
       "      <td>-1.000000</td>\n",
       "      <td>-1.000000</td>\n",
       "      <td>-1.000000</td>\n",
       "      <td>алтайский край</td>\n",
       "      <td>0.0</td>\n",
       "    </tr>\n",
       "    <tr>\n",
       "      <th>2</th>\n",
       "      <td>82469</td>\n",
       "      <td>20103</td>\n",
       "      <td>2017</td>\n",
       "      <td>Жен</td>\n",
       "      <td>ДН</td>\n",
       "      <td>Английский</td>\n",
       "      <td>23991</td>\n",
       "      <td>МБОУ Алтайская СОШ №5</td>\n",
       "      <td>Алтайское</td>\n",
       "      <td>2017.0</td>\n",
       "      <td>...</td>\n",
       "      <td>4.133</td>\n",
       "      <td>0.0</td>\n",
       "      <td>222</td>\n",
       "      <td>0.166667</td>\n",
       "      <td>0.166667</td>\n",
       "      <td>0.636364</td>\n",
       "      <td>0.500000</td>\n",
       "      <td>0.380952</td>\n",
       "      <td>алтайский край</td>\n",
       "      <td>0.0</td>\n",
       "    </tr>\n",
       "    <tr>\n",
       "      <th>3</th>\n",
       "      <td>81661</td>\n",
       "      <td>19838</td>\n",
       "      <td>2017</td>\n",
       "      <td>Жен</td>\n",
       "      <td>БН</td>\n",
       "      <td>Английский</td>\n",
       "      <td>23940</td>\n",
       "      <td>ФГБОУ ВО Алтайский государственный университет</td>\n",
       "      <td>Барнаул</td>\n",
       "      <td>2017.0</td>\n",
       "      <td>...</td>\n",
       "      <td>74.000</td>\n",
       "      <td>0.0</td>\n",
       "      <td>273</td>\n",
       "      <td>0.333333</td>\n",
       "      <td>0.333333</td>\n",
       "      <td>0.200000</td>\n",
       "      <td>0.714286</td>\n",
       "      <td>0.384615</td>\n",
       "      <td>алтайский край</td>\n",
       "      <td>0.0</td>\n",
       "    </tr>\n",
       "    <tr>\n",
       "      <th>4</th>\n",
       "      <td>81509</td>\n",
       "      <td>19803</td>\n",
       "      <td>2017</td>\n",
       "      <td>Жен</td>\n",
       "      <td>БН</td>\n",
       "      <td>Английский</td>\n",
       "      <td>23946</td>\n",
       "      <td>ФГБОУ ВО Алтайский государственный университет</td>\n",
       "      <td>Барнаул</td>\n",
       "      <td>2017.0</td>\n",
       "      <td>...</td>\n",
       "      <td>53.000</td>\n",
       "      <td>0.0</td>\n",
       "      <td>267</td>\n",
       "      <td>0.333333</td>\n",
       "      <td>0.333333</td>\n",
       "      <td>0.200000</td>\n",
       "      <td>0.714286</td>\n",
       "      <td>0.384615</td>\n",
       "      <td>алтайский край</td>\n",
       "      <td>0.0</td>\n",
       "    </tr>\n",
       "    <tr>\n",
       "      <th>...</th>\n",
       "      <td>...</td>\n",
       "      <td>...</td>\n",
       "      <td>...</td>\n",
       "      <td>...</td>\n",
       "      <td>...</td>\n",
       "      <td>...</td>\n",
       "      <td>...</td>\n",
       "      <td>...</td>\n",
       "      <td>...</td>\n",
       "      <td>...</td>\n",
       "      <td>...</td>\n",
       "      <td>...</td>\n",
       "      <td>...</td>\n",
       "      <td>...</td>\n",
       "      <td>...</td>\n",
       "      <td>...</td>\n",
       "      <td>...</td>\n",
       "      <td>...</td>\n",
       "      <td>...</td>\n",
       "      <td>...</td>\n",
       "      <td>...</td>\n",
       "    </tr>\n",
       "    <tr>\n",
       "      <th>13579</th>\n",
       "      <td>74283</td>\n",
       "      <td>17593</td>\n",
       "      <td>2016</td>\n",
       "      <td>Муж</td>\n",
       "      <td>ОО</td>\n",
       "      <td>Английский</td>\n",
       "      <td>23985</td>\n",
       "      <td>МБОУ СОШ №98</td>\n",
       "      <td>Барнаул</td>\n",
       "      <td>2016.0</td>\n",
       "      <td>...</td>\n",
       "      <td>59.000</td>\n",
       "      <td>0.0</td>\n",
       "      <td>216</td>\n",
       "      <td>0.000000</td>\n",
       "      <td>0.000000</td>\n",
       "      <td>0.142857</td>\n",
       "      <td>0.083333</td>\n",
       "      <td>0.083333</td>\n",
       "      <td>алтайский край</td>\n",
       "      <td>0.0</td>\n",
       "    </tr>\n",
       "    <tr>\n",
       "      <th>13580</th>\n",
       "      <td>71516</td>\n",
       "      <td>19433</td>\n",
       "      <td>2015</td>\n",
       "      <td>Жен</td>\n",
       "      <td>ОО</td>\n",
       "      <td>Немецкий</td>\n",
       "      <td>23973</td>\n",
       "      <td>МКОУ \"Георгиевская СОШ\"</td>\n",
       "      <td>Георгиевка</td>\n",
       "      <td>2015.0</td>\n",
       "      <td>...</td>\n",
       "      <td>82.000</td>\n",
       "      <td>0.0</td>\n",
       "      <td>216</td>\n",
       "      <td>0.166667</td>\n",
       "      <td>0.166667</td>\n",
       "      <td>0.100000</td>\n",
       "      <td>0.142857</td>\n",
       "      <td>0.347826</td>\n",
       "      <td>алтайский край</td>\n",
       "      <td>0.0</td>\n",
       "    </tr>\n",
       "    <tr>\n",
       "      <th>13581</th>\n",
       "      <td>76970</td>\n",
       "      <td>18723</td>\n",
       "      <td>2016</td>\n",
       "      <td>Муж</td>\n",
       "      <td>СН</td>\n",
       "      <td>Английский</td>\n",
       "      <td>23979</td>\n",
       "      <td>МБОУ СОШ №113 им. Сергея Семенова</td>\n",
       "      <td>Барнаул</td>\n",
       "      <td>2016.0</td>\n",
       "      <td>...</td>\n",
       "      <td>3.400</td>\n",
       "      <td>0.0</td>\n",
       "      <td>222</td>\n",
       "      <td>0.166667</td>\n",
       "      <td>0.166667</td>\n",
       "      <td>0.142857</td>\n",
       "      <td>0.071429</td>\n",
       "      <td>0.030303</td>\n",
       "      <td>алтайский край</td>\n",
       "      <td>0.0</td>\n",
       "    </tr>\n",
       "    <tr>\n",
       "      <th>13582</th>\n",
       "      <td>48548</td>\n",
       "      <td>14663</td>\n",
       "      <td>2012</td>\n",
       "      <td>Жен</td>\n",
       "      <td>ОО</td>\n",
       "      <td>None</td>\n",
       "      <td>23947</td>\n",
       "      <td>none</td>\n",
       "      <td>none</td>\n",
       "      <td>-1.0</td>\n",
       "      <td>...</td>\n",
       "      <td>95.000</td>\n",
       "      <td>2013.0</td>\n",
       "      <td>206</td>\n",
       "      <td>-1.000000</td>\n",
       "      <td>-1.000000</td>\n",
       "      <td>-1.000000</td>\n",
       "      <td>-1.000000</td>\n",
       "      <td>-1.000000</td>\n",
       "      <td>none</td>\n",
       "      <td>0.0</td>\n",
       "    </tr>\n",
       "    <tr>\n",
       "      <th>13583</th>\n",
       "      <td>80923</td>\n",
       "      <td>19869</td>\n",
       "      <td>2017</td>\n",
       "      <td>Жен</td>\n",
       "      <td>БН</td>\n",
       "      <td>Английский</td>\n",
       "      <td>23949</td>\n",
       "      <td>ФГБОУ ВО Алтайский государственный университет</td>\n",
       "      <td>Барнаул</td>\n",
       "      <td>2017.0</td>\n",
       "      <td>...</td>\n",
       "      <td>73.000</td>\n",
       "      <td>0.0</td>\n",
       "      <td>264</td>\n",
       "      <td>0.333333</td>\n",
       "      <td>0.333333</td>\n",
       "      <td>0.166667</td>\n",
       "      <td>0.714286</td>\n",
       "      <td>0.384615</td>\n",
       "      <td>алтайский край</td>\n",
       "      <td>0.0</td>\n",
       "    </tr>\n",
       "  </tbody>\n",
       "</table>\n",
       "<p>13584 rows × 32 columns</p>\n",
       "</div>"
      ],
      "text/plain": [
       "          ID  Код_группы  Год_Поступления  Пол Основания Изучаемый_Язык  \\\n",
       "0      72716       16019             2015  Жен        ОО     Английский   \n",
       "1      63306       14895             2010  Муж        ЦН           None   \n",
       "2      82469       20103             2017  Жен        ДН     Английский   \n",
       "3      81661       19838             2017  Жен        БН     Английский   \n",
       "4      81509       19803             2017  Жен        БН     Английский   \n",
       "...      ...         ...              ...  ...       ...            ...   \n",
       "13579  74283       17593             2016  Муж        ОО     Английский   \n",
       "13580  71516       19433             2015  Жен        ОО       Немецкий   \n",
       "13581  76970       18723             2016  Муж        СН     Английский   \n",
       "13582  48548       14663             2012  Жен        ОО           None   \n",
       "13583  80923       19869             2017  Жен        БН     Английский   \n",
       "\n",
       "       Дата_Рождения                                    Уч_Заведение  \\\n",
       "0              23978                                  МБОУ \"СОШ №59\"   \n",
       "1              23908                                            none   \n",
       "2              23991                           МБОУ Алтайская СОШ №5   \n",
       "3              23940  ФГБОУ ВО Алтайский государственный университет   \n",
       "4              23946  ФГБОУ ВО Алтайский государственный университет   \n",
       "...              ...                                             ...   \n",
       "13579          23985                                    МБОУ СОШ №98   \n",
       "13580          23973                         МКОУ \"Георгиевская СОШ\"   \n",
       "13581          23979               МБОУ СОШ №113 им. Сергея Семенова   \n",
       "13582          23947                                            none   \n",
       "13583          23949  ФГБОУ ВО Алтайский государственный университет   \n",
       "\n",
       "      Где_Находится_УЗ  Год_Окончания_УЗ  ...  СрБаллАттестата    gape  \\\n",
       "0              Барнаул            2014.0  ...            4.294     1.0   \n",
       "1                 none              -1.0  ...           67.000  2011.0   \n",
       "2            Алтайское            2017.0  ...            4.133     0.0   \n",
       "3              Барнаул            2017.0  ...           74.000     0.0   \n",
       "4              Барнаул            2017.0  ...           53.000     0.0   \n",
       "...                ...               ...  ...              ...     ...   \n",
       "13579          Барнаул            2016.0  ...           59.000     0.0   \n",
       "13580       Георгиевка            2015.0  ...           82.000     0.0   \n",
       "13581          Барнаул            2016.0  ...            3.400     0.0   \n",
       "13582             none              -1.0  ...           95.000  2013.0   \n",
       "13583          Барнаул            2017.0  ...           73.000     0.0   \n",
       "\n",
       "      gape_age Страна_ПП_Уч_Заведение_diff  Страна_Родители_Уч_Заведение_diff  \\\n",
       "0          211                    0.000000                           0.000000   \n",
       "1          221                   -1.000000                          -1.000000   \n",
       "2          222                    0.166667                           0.166667   \n",
       "3          273                    0.333333                           0.333333   \n",
       "4          267                    0.333333                           0.333333   \n",
       "...        ...                         ...                                ...   \n",
       "13579      216                    0.000000                           0.000000   \n",
       "13580      216                    0.166667                           0.166667   \n",
       "13581      222                    0.166667                           0.166667   \n",
       "13582      206                   -1.000000                          -1.000000   \n",
       "13583      264                    0.333333                           0.333333   \n",
       "\n",
       "       Город_ПП_Уч_Заведение_diff  Регион_ПП_Уч_Заведение_diff  \\\n",
       "0                        0.111111                     0.071429   \n",
       "1                       -1.000000                    -1.000000   \n",
       "2                        0.636364                     0.500000   \n",
       "3                        0.200000                     0.714286   \n",
       "4                        0.200000                     0.714286   \n",
       "...                           ...                          ...   \n",
       "13579                    0.142857                     0.083333   \n",
       "13580                    0.100000                     0.142857   \n",
       "13581                    0.142857                     0.071429   \n",
       "13582                   -1.000000                    -1.000000   \n",
       "13583                    0.166667                     0.714286   \n",
       "\n",
       "      Где_Находится_УЗ_Уч_Заведение_diff          reg_pp  Strange_disp  \n",
       "0                               0.071429  алтайский край           0.0  \n",
       "1                              -1.000000  алтайский край           0.0  \n",
       "2                               0.380952  алтайский край           0.0  \n",
       "3                               0.384615  алтайский край           0.0  \n",
       "4                               0.384615  алтайский край           0.0  \n",
       "...                                  ...             ...           ...  \n",
       "13579                           0.083333  алтайский край           0.0  \n",
       "13580                           0.347826  алтайский край           0.0  \n",
       "13581                           0.030303  алтайский край           0.0  \n",
       "13582                          -1.000000            none           0.0  \n",
       "13583                           0.384615  алтайский край           0.0  \n",
       "\n",
       "[13584 rows x 32 columns]"
      ]
     },
     "execution_count": 241,
     "metadata": {},
     "output_type": "execute_result"
    }
   ],
   "source": [
    "train[feature_columns]"
   ]
  },
  {
   "cell_type": "code",
   "execution_count": 242,
   "metadata": {},
   "outputs": [],
   "source": [
    "from lightgbm import LGBMClassifier"
   ]
  },
  {
   "cell_type": "code",
   "execution_count": 243,
   "metadata": {},
   "outputs": [],
   "source": [
    "from sklearn.model_selection import StratifiedKFold\n",
    "from sklearn.metrics import f1_score"
   ]
  },
  {
   "cell_type": "code",
   "execution_count": 244,
   "metadata": {},
   "outputs": [],
   "source": [
    "X_TRAIN = train[feature_columns].copy()\n",
    "y = train[\"Статус\"].values"
   ]
  },
  {
   "cell_type": "code",
   "execution_count": 245,
   "metadata": {},
   "outputs": [],
   "source": [
    "for x in cat_feat:\n",
    "    X_TRAIN[x] = X_TRAIN[x].astype(\"category\")"
   ]
  },
  {
   "cell_type": "code",
   "execution_count": 246,
   "metadata": {},
   "outputs": [],
   "source": [
    "X_TRAIN[\"f1\"] = X_TRAIN[\"Код_группы\"]//10000\n",
    "X_TRAIN[\"f2\"] = X_TRAIN[\"Код_группы\"]//1000\n",
    "X_TRAIN[\"f3\"] = X_TRAIN[\"Код_группы\"]//100\n",
    "X_TRAIN[\"f4\"] = X_TRAIN[\"Код_группы\"]//10\n",
    "\n",
    "X_TRAIN[\"l1\"] = X_TRAIN[\"Код_группы\"]%10000\n",
    "X_TRAIN[\"l2\"] = X_TRAIN[\"Код_группы\"]%1000\n",
    "X_TRAIN[\"l3\"] = X_TRAIN[\"Код_группы\"]%100\n",
    "X_TRAIN[\"l4\"] = X_TRAIN[\"Код_группы\"]%10\n",
    "\n",
    "X_TRAIN[\"df\"] = X_TRAIN[\"Код_группы\"]%2000\n",
    "X_TRAIN[\"dl\"] = X_TRAIN[\"Код_группы\"]//2000\n",
    "\n",
    "X_TRAIN = X_TRAIN.merge(work_count, on=name, how=\"left\") #average='\n",
    "X_TRAIN = X_TRAIN.merge(work_diff, on=name, how=\"left\") #average='\n",
    "X_TRAIN = X_TRAIN.merge(work_diff_inv, on=name, how=\"left\") #average='\n",
    "X_TRAIN = X_TRAIN.merge(dfid, on=\"ID\", how=\"left\") #average='\n",
    "X_TRAIN = X_TRAIN.merge(dfidinv, on=\"ID\", how=\"left\") #average='\n",
    "\n",
    "#X_TRAIN = X_TRAIN.merge(work_count, on=name, how=\"left\") #average='macro'"
   ]
  },
  {
   "cell_type": "code",
   "execution_count": 247,
   "metadata": {},
   "outputs": [],
   "source": [
    "X_TRAIN = pd.concat([X_TRAIN, uchzavdf], axis=1)"
   ]
  },
  {
   "cell_type": "code",
   "execution_count": 248,
   "metadata": {},
   "outputs": [],
   "source": [
    "X_TRAIN[\"Status\"] = y\n",
    "X_TRAIN = X_TRAIN.sort_values([\"Код_группы\", \"ID\"])\n",
    "y = X_TRAIN[\"Status\"].values\n",
    "X_TRAIN = X_TRAIN.drop(columns=[\"Status\"])\n",
    "X_TRAIN = X_TRAIN.reset_index()"
   ]
  },
  {
   "cell_type": "code",
   "execution_count": 249,
   "metadata": {},
   "outputs": [],
   "source": [
    "X_TRAIN = X_TRAIN.drop(columns=[\"index\"])"
   ]
  },
  {
   "cell_type": "code",
   "execution_count": 250,
   "metadata": {},
   "outputs": [],
   "source": [
    "X_TEST = test[feature_columns].copy()\n",
    "\n",
    "for x in cat_feat:\n",
    "    X_TEST[x] = X_TEST[x].astype(\"category\")\n",
    "    \n",
    "X_TEST[\"f1\"] = X_TEST[\"Код_группы\"]//10000\n",
    "X_TEST[\"f2\"] = X_TEST[\"Код_группы\"]//1000\n",
    "X_TEST[\"f3\"] = X_TEST[\"Код_группы\"]//100\n",
    "X_TEST[\"f4\"] = X_TEST[\"Код_группы\"]//10\n",
    "\n",
    "X_TEST[\"l1\"] = X_TEST[\"Код_группы\"]%10000\n",
    "X_TEST[\"l2\"] = X_TEST[\"Код_группы\"]%1000\n",
    "X_TEST[\"l3\"] = X_TEST[\"Код_группы\"]%100\n",
    "X_TEST[\"l4\"] = X_TEST[\"Код_группы\"]%10\n",
    "\n",
    "X_TEST[\"df\"] = X_TEST[\"Код_группы\"]%2000\n",
    "X_TEST[\"dl\"] = X_TEST[\"Код_группы\"]//2000\n",
    "\n",
    "X_TEST = X_TEST.merge(work_count, on=name, how=\"left\")\n",
    "X_TEST = X_TEST.merge(work_diff, on=name, how=\"left\") #average='\n",
    "X_TEST = X_TEST.merge(work_diff_inv, on=name, how=\"left\") #average='\n",
    "X_TEST = X_TEST.merge(dfid, on=\"ID\", how=\"left\") #average='\n",
    "X_TEST = X_TEST.merge(dfidinv, on=\"ID\", how=\"left\") #average='\n",
    "\n",
    "\n",
    "X_TEST = pd.concat([X_TEST, uchzavdf_test], axis=1)"
   ]
  },
  {
   "cell_type": "code",
   "execution_count": 251,
   "metadata": {},
   "outputs": [],
   "source": [
    "def most_common(lst):\n",
    "    return max(set(lst), key=lst.count)\n",
    "\n",
    "def fit_lgbms(params, cat_feat, X, y):\n",
    "    lgbms = []\n",
    "    seeds = [154, 2277, 42, 5, 8713]\n",
    "    for seed in seeds:\n",
    "        \n",
    "        lgbm = LGBMClassifier(is_unbalance=True, **params, random_state=seed)\n",
    "        \n",
    "        lgbm.fit(X, y, categorical_feature=cat_feat)\n",
    "        \n",
    "        lgbms.append(lgbm)\n",
    "        \n",
    "    return lgbms\n",
    "\n",
    "def fit_lgbms_full(params, cat_feat, X, y):\n",
    "    lgbms = []\n",
    "    seeds = [154, 2277, 42, 5, 8713]\n",
    "    for seed in seeds:\n",
    "        \n",
    "        lgbm = LGBMClassifier(class_weight=\"balanced\", **params, random_state=seed)\n",
    "        \n",
    "        lgbm.fit(X, y, categorical_feature=cat_feat)\n",
    "        \n",
    "        lgbms.append(lgbm)\n",
    "        \n",
    "    return lgbms\n",
    "\n",
    "\n",
    "def prdict_lgbms(lgbms, X):\n",
    "    \n",
    "    ys = []\n",
    "    \n",
    "    for lgbm in lgbms:\n",
    "        \n",
    "        y = lgbm.predict(X)\n",
    "        ys.append(y)\n",
    "        \n",
    "    yf = []\n",
    "    for i in range(len(X)):\n",
    "        l = [ys[j][i] for j in range(len(lgbms))]\n",
    "        yf.append(most_common(l))\n",
    "           \n",
    "    return yf\n",
    "\n",
    "\n",
    "def prdict_lgbms_proba(lgbms, X):\n",
    "    \n",
    "    ys = []\n",
    "    \n",
    "    for lgbm in lgbms:\n",
    "        \n",
    "        y = lgbm.predict_proba(X)[:,1].reshape(1, -1)\n",
    "        ys.append(y)\n",
    "               \n",
    "    return np.vstack(ys).mean(axis=0)\n",
    "\n",
    "def prdict_lgbms_proba_full(lgbms, X):\n",
    "    \n",
    "    ys = []\n",
    "    \n",
    "    for lgbm in lgbms:\n",
    "        \n",
    "        y = lgbm.predict_proba(X) #[:,1].reshape(1, -1)\n",
    "        ys.append(y)\n",
    "               \n",
    "    return np.stack(ys).mean(axis=0)"
   ]
  },
  {
   "cell_type": "code",
   "execution_count": 252,
   "metadata": {},
   "outputs": [],
   "source": [
    "import pickle\n",
    "with open('sm_params.pickle', 'rb') as handle:\n",
    "    sm_params = pickle.load(handle)"
   ]
  },
  {
   "cell_type": "code",
   "execution_count": 253,
   "metadata": {},
   "outputs": [],
   "source": [
    "def sm_bagged_fit_predict(X_TRAIN, y, X_TEST, sm_params, n_folds, seeds):\n",
    "    ovo_test_list = []\n",
    "    sm_train_list = []\n",
    "       \n",
    "    features_sm_test = []\n",
    "        \n",
    "    for seed in seeds:\n",
    "        \n",
    "        features_ovo = []\n",
    "\n",
    "        preds = []\n",
    "    \n",
    "\n",
    "        for ti, di in StratifiedKFold(n_splits=n_folds, shuffle=True,  random_state=seed).split(X_TRAIN, y):\n",
    "\n",
    "            Xt = X_TRAIN.iloc[ti]\n",
    "            yt = y[ti]\n",
    "\n",
    "\n",
    "            Xd = X_TRAIN.iloc[di]\n",
    "            yd = y[di]\n",
    "\n",
    "            lgbms = fit_lgbms_full(sm_params, cat_feat, Xt, yt)\n",
    "            ypred = prdict_lgbms_proba_full(lgbms, Xd)\n",
    "            features_sm_test.append(prdict_lgbms_proba_full(lgbms, X_TEST))\n",
    "\n",
    "            preds.append((di, ypred))\n",
    "\n",
    "                    \n",
    "        \n",
    "        yprom = np.zeros((len(X_TRAIN), 3))\n",
    "\n",
    "        for i in range(n_folds):\n",
    "            yprom[preds[i][0]] = preds[i][1]\n",
    "\n",
    "        #features_ovo.append(yprom.copy())\n",
    "\n",
    "        #ovo_test = [np.vstack(features_ovo_test[0]).mean(axis=0), np.vstack(features_ovo_test[1]).mean(axis=0), np.vstack(features_ovo_test[2]).mean(axis=0)]\n",
    "        #ovo_test = np.vstack(ovo_test).T\n",
    "        #ovo_test_list.append(ovo_test)\n",
    "        \n",
    "        #ovo_train = np.vstack(features_ovo).T\n",
    "        sm_train_list.append(yprom)\n",
    "    \n",
    "    #print(features_sm_test)\n",
    "    return np.stack(features_sm_test).mean(axis=0), np.stack(sm_train_list).mean(axis=0)"
   ]
  },
  {
   "cell_type": "code",
   "execution_count": 254,
   "metadata": {},
   "outputs": [],
   "source": [
    "from sklearn.linear_model import LogisticRegression"
   ]
  },
  {
   "cell_type": "code",
   "execution_count": 255,
   "metadata": {},
   "outputs": [
    {
     "name": "stderr",
     "output_type": "stream",
     "text": [
      "C:\\Program Files\\Python38\\lib\\site-packages\\lightgbm\\basic.py:2065: UserWarning: Using categorical_feature in Dataset.\n",
      "  _log_warning('Using categorical_feature in Dataset.')\n"
     ]
    },
    {
     "name": "stdout",
     "output_type": "stream",
     "text": [
      "[LightGBM] [Warning] min_sum_hessian_in_leaf is set=0.090931378259608, min_child_weight=0.001 will be ignored. Current value: min_sum_hessian_in_leaf=0.090931378259608\n"
     ]
    },
    {
     "name": "stderr",
     "output_type": "stream",
     "text": [
      "C:\\Program Files\\Python38\\lib\\site-packages\\lightgbm\\basic.py:2065: UserWarning: Using categorical_feature in Dataset.\n",
      "  _log_warning('Using categorical_feature in Dataset.')\n",
      "C:\\Program Files\\Python38\\lib\\site-packages\\lightgbm\\basic.py:2065: UserWarning: Using categorical_feature in Dataset.\n",
      "  _log_warning('Using categorical_feature in Dataset.')\n",
      "C:\\Program Files\\Python38\\lib\\site-packages\\lightgbm\\basic.py:2065: UserWarning: Using categorical_feature in Dataset.\n",
      "  _log_warning('Using categorical_feature in Dataset.')\n",
      "C:\\Program Files\\Python38\\lib\\site-packages\\lightgbm\\basic.py:2065: UserWarning: Using categorical_feature in Dataset.\n",
      "  _log_warning('Using categorical_feature in Dataset.')\n",
      "C:\\Program Files\\Python38\\lib\\site-packages\\lightgbm\\basic.py:2065: UserWarning: Using categorical_feature in Dataset.\n",
      "  _log_warning('Using categorical_feature in Dataset.')\n"
     ]
    },
    {
     "name": "stdout",
     "output_type": "stream",
     "text": [
      "[LightGBM] [Warning] min_sum_hessian_in_leaf is set=0.090931378259608, min_child_weight=0.001 will be ignored. Current value: min_sum_hessian_in_leaf=0.090931378259608\n"
     ]
    },
    {
     "name": "stderr",
     "output_type": "stream",
     "text": [
      "C:\\Program Files\\Python38\\lib\\site-packages\\lightgbm\\basic.py:2065: UserWarning: Using categorical_feature in Dataset.\n",
      "  _log_warning('Using categorical_feature in Dataset.')\n",
      "C:\\Program Files\\Python38\\lib\\site-packages\\lightgbm\\basic.py:2065: UserWarning: Using categorical_feature in Dataset.\n",
      "  _log_warning('Using categorical_feature in Dataset.')\n",
      "C:\\Program Files\\Python38\\lib\\site-packages\\lightgbm\\basic.py:2065: UserWarning: Using categorical_feature in Dataset.\n",
      "  _log_warning('Using categorical_feature in Dataset.')\n",
      "C:\\Program Files\\Python38\\lib\\site-packages\\lightgbm\\basic.py:2065: UserWarning: Using categorical_feature in Dataset.\n",
      "  _log_warning('Using categorical_feature in Dataset.')\n",
      "C:\\Program Files\\Python38\\lib\\site-packages\\lightgbm\\basic.py:2065: UserWarning: Using categorical_feature in Dataset.\n",
      "  _log_warning('Using categorical_feature in Dataset.')\n"
     ]
    },
    {
     "name": "stdout",
     "output_type": "stream",
     "text": [
      "[LightGBM] [Warning] min_sum_hessian_in_leaf is set=0.090931378259608, min_child_weight=0.001 will be ignored. Current value: min_sum_hessian_in_leaf=0.090931378259608\n"
     ]
    },
    {
     "name": "stderr",
     "output_type": "stream",
     "text": [
      "C:\\Program Files\\Python38\\lib\\site-packages\\lightgbm\\basic.py:2065: UserWarning: Using categorical_feature in Dataset.\n",
      "  _log_warning('Using categorical_feature in Dataset.')\n",
      "C:\\Program Files\\Python38\\lib\\site-packages\\lightgbm\\basic.py:2065: UserWarning: Using categorical_feature in Dataset.\n",
      "  _log_warning('Using categorical_feature in Dataset.')\n",
      "C:\\Program Files\\Python38\\lib\\site-packages\\lightgbm\\basic.py:2065: UserWarning: Using categorical_feature in Dataset.\n",
      "  _log_warning('Using categorical_feature in Dataset.')\n",
      "C:\\Program Files\\Python38\\lib\\site-packages\\lightgbm\\basic.py:2065: UserWarning: Using categorical_feature in Dataset.\n",
      "  _log_warning('Using categorical_feature in Dataset.')\n",
      "C:\\Program Files\\Python38\\lib\\site-packages\\lightgbm\\basic.py:2065: UserWarning: Using categorical_feature in Dataset.\n",
      "  _log_warning('Using categorical_feature in Dataset.')\n"
     ]
    },
    {
     "name": "stdout",
     "output_type": "stream",
     "text": [
      "[LightGBM] [Warning] min_sum_hessian_in_leaf is set=0.090931378259608, min_child_weight=0.001 will be ignored. Current value: min_sum_hessian_in_leaf=0.090931378259608\n"
     ]
    },
    {
     "name": "stderr",
     "output_type": "stream",
     "text": [
      "C:\\Program Files\\Python38\\lib\\site-packages\\lightgbm\\basic.py:2065: UserWarning: Using categorical_feature in Dataset.\n",
      "  _log_warning('Using categorical_feature in Dataset.')\n",
      "C:\\Program Files\\Python38\\lib\\site-packages\\lightgbm\\basic.py:2065: UserWarning: Using categorical_feature in Dataset.\n",
      "  _log_warning('Using categorical_feature in Dataset.')\n",
      "C:\\Program Files\\Python38\\lib\\site-packages\\lightgbm\\basic.py:2065: UserWarning: Using categorical_feature in Dataset.\n",
      "  _log_warning('Using categorical_feature in Dataset.')\n",
      "C:\\Program Files\\Python38\\lib\\site-packages\\lightgbm\\basic.py:2065: UserWarning: Using categorical_feature in Dataset.\n",
      "  _log_warning('Using categorical_feature in Dataset.')\n",
      "C:\\Program Files\\Python38\\lib\\site-packages\\lightgbm\\basic.py:2065: UserWarning: Using categorical_feature in Dataset.\n",
      "  _log_warning('Using categorical_feature in Dataset.')\n"
     ]
    },
    {
     "name": "stdout",
     "output_type": "stream",
     "text": [
      "[LightGBM] [Warning] min_sum_hessian_in_leaf is set=0.090931378259608, min_child_weight=0.001 will be ignored. Current value: min_sum_hessian_in_leaf=0.090931378259608\n"
     ]
    },
    {
     "name": "stderr",
     "output_type": "stream",
     "text": [
      "C:\\Program Files\\Python38\\lib\\site-packages\\lightgbm\\basic.py:2065: UserWarning: Using categorical_feature in Dataset.\n",
      "  _log_warning('Using categorical_feature in Dataset.')\n",
      "C:\\Program Files\\Python38\\lib\\site-packages\\lightgbm\\basic.py:2065: UserWarning: Using categorical_feature in Dataset.\n",
      "  _log_warning('Using categorical_feature in Dataset.')\n",
      "C:\\Program Files\\Python38\\lib\\site-packages\\lightgbm\\basic.py:2065: UserWarning: Using categorical_feature in Dataset.\n",
      "  _log_warning('Using categorical_feature in Dataset.')\n",
      "C:\\Program Files\\Python38\\lib\\site-packages\\lightgbm\\basic.py:2065: UserWarning: Using categorical_feature in Dataset.\n",
      "  _log_warning('Using categorical_feature in Dataset.')\n",
      "C:\\Program Files\\Python38\\lib\\site-packages\\lightgbm\\basic.py:2065: UserWarning: Using categorical_feature in Dataset.\n",
      "  _log_warning('Using categorical_feature in Dataset.')\n"
     ]
    },
    {
     "name": "stdout",
     "output_type": "stream",
     "text": [
      "[LightGBM] [Warning] min_sum_hessian_in_leaf is set=0.090931378259608, min_child_weight=0.001 will be ignored. Current value: min_sum_hessian_in_leaf=0.090931378259608\n"
     ]
    },
    {
     "name": "stderr",
     "output_type": "stream",
     "text": [
      "C:\\Program Files\\Python38\\lib\\site-packages\\lightgbm\\basic.py:2065: UserWarning: Using categorical_feature in Dataset.\n",
      "  _log_warning('Using categorical_feature in Dataset.')\n",
      "C:\\Program Files\\Python38\\lib\\site-packages\\lightgbm\\basic.py:2065: UserWarning: Using categorical_feature in Dataset.\n",
      "  _log_warning('Using categorical_feature in Dataset.')\n",
      "C:\\Program Files\\Python38\\lib\\site-packages\\lightgbm\\basic.py:2065: UserWarning: Using categorical_feature in Dataset.\n",
      "  _log_warning('Using categorical_feature in Dataset.')\n",
      "C:\\Program Files\\Python38\\lib\\site-packages\\lightgbm\\basic.py:2065: UserWarning: Using categorical_feature in Dataset.\n",
      "  _log_warning('Using categorical_feature in Dataset.')\n",
      "C:\\Program Files\\Python38\\lib\\site-packages\\lightgbm\\basic.py:2065: UserWarning: Using categorical_feature in Dataset.\n",
      "  _log_warning('Using categorical_feature in Dataset.')\n"
     ]
    },
    {
     "name": "stdout",
     "output_type": "stream",
     "text": [
      "[LightGBM] [Warning] min_sum_hessian_in_leaf is set=0.090931378259608, min_child_weight=0.001 will be ignored. Current value: min_sum_hessian_in_leaf=0.090931378259608\n"
     ]
    },
    {
     "name": "stderr",
     "output_type": "stream",
     "text": [
      "C:\\Program Files\\Python38\\lib\\site-packages\\lightgbm\\basic.py:2065: UserWarning: Using categorical_feature in Dataset.\n",
      "  _log_warning('Using categorical_feature in Dataset.')\n",
      "C:\\Program Files\\Python38\\lib\\site-packages\\lightgbm\\basic.py:2065: UserWarning: Using categorical_feature in Dataset.\n",
      "  _log_warning('Using categorical_feature in Dataset.')\n",
      "C:\\Program Files\\Python38\\lib\\site-packages\\lightgbm\\basic.py:2065: UserWarning: Using categorical_feature in Dataset.\n",
      "  _log_warning('Using categorical_feature in Dataset.')\n",
      "C:\\Program Files\\Python38\\lib\\site-packages\\lightgbm\\basic.py:2065: UserWarning: Using categorical_feature in Dataset.\n",
      "  _log_warning('Using categorical_feature in Dataset.')\n",
      "C:\\Program Files\\Python38\\lib\\site-packages\\lightgbm\\basic.py:2065: UserWarning: Using categorical_feature in Dataset.\n",
      "  _log_warning('Using categorical_feature in Dataset.')\n"
     ]
    },
    {
     "name": "stdout",
     "output_type": "stream",
     "text": [
      "[LightGBM] [Warning] min_sum_hessian_in_leaf is set=0.090931378259608, min_child_weight=0.001 will be ignored. Current value: min_sum_hessian_in_leaf=0.090931378259608\n"
     ]
    },
    {
     "name": "stderr",
     "output_type": "stream",
     "text": [
      "C:\\Program Files\\Python38\\lib\\site-packages\\lightgbm\\basic.py:2065: UserWarning: Using categorical_feature in Dataset.\n",
      "  _log_warning('Using categorical_feature in Dataset.')\n",
      "C:\\Program Files\\Python38\\lib\\site-packages\\lightgbm\\basic.py:2065: UserWarning: Using categorical_feature in Dataset.\n",
      "  _log_warning('Using categorical_feature in Dataset.')\n",
      "C:\\Program Files\\Python38\\lib\\site-packages\\lightgbm\\basic.py:2065: UserWarning: Using categorical_feature in Dataset.\n",
      "  _log_warning('Using categorical_feature in Dataset.')\n",
      "C:\\Program Files\\Python38\\lib\\site-packages\\lightgbm\\basic.py:2065: UserWarning: Using categorical_feature in Dataset.\n",
      "  _log_warning('Using categorical_feature in Dataset.')\n",
      "C:\\Program Files\\Python38\\lib\\site-packages\\lightgbm\\basic.py:2065: UserWarning: Using categorical_feature in Dataset.\n",
      "  _log_warning('Using categorical_feature in Dataset.')\n"
     ]
    },
    {
     "name": "stdout",
     "output_type": "stream",
     "text": [
      "[LightGBM] [Warning] min_sum_hessian_in_leaf is set=0.090931378259608, min_child_weight=0.001 will be ignored. Current value: min_sum_hessian_in_leaf=0.090931378259608\n"
     ]
    },
    {
     "name": "stderr",
     "output_type": "stream",
     "text": [
      "C:\\Program Files\\Python38\\lib\\site-packages\\lightgbm\\basic.py:2065: UserWarning: Using categorical_feature in Dataset.\n",
      "  _log_warning('Using categorical_feature in Dataset.')\n",
      "C:\\Program Files\\Python38\\lib\\site-packages\\lightgbm\\basic.py:2065: UserWarning: Using categorical_feature in Dataset.\n",
      "  _log_warning('Using categorical_feature in Dataset.')\n",
      "C:\\Program Files\\Python38\\lib\\site-packages\\lightgbm\\basic.py:2065: UserWarning: Using categorical_feature in Dataset.\n",
      "  _log_warning('Using categorical_feature in Dataset.')\n",
      "C:\\Program Files\\Python38\\lib\\site-packages\\lightgbm\\basic.py:2065: UserWarning: Using categorical_feature in Dataset.\n",
      "  _log_warning('Using categorical_feature in Dataset.')\n",
      "C:\\Program Files\\Python38\\lib\\site-packages\\lightgbm\\basic.py:2065: UserWarning: Using categorical_feature in Dataset.\n",
      "  _log_warning('Using categorical_feature in Dataset.')\n"
     ]
    },
    {
     "name": "stdout",
     "output_type": "stream",
     "text": [
      "[LightGBM] [Warning] min_sum_hessian_in_leaf is set=0.090931378259608, min_child_weight=0.001 will be ignored. Current value: min_sum_hessian_in_leaf=0.090931378259608\n"
     ]
    },
    {
     "name": "stderr",
     "output_type": "stream",
     "text": [
      "C:\\Program Files\\Python38\\lib\\site-packages\\lightgbm\\basic.py:2065: UserWarning: Using categorical_feature in Dataset.\n",
      "  _log_warning('Using categorical_feature in Dataset.')\n",
      "C:\\Program Files\\Python38\\lib\\site-packages\\lightgbm\\basic.py:2065: UserWarning: Using categorical_feature in Dataset.\n",
      "  _log_warning('Using categorical_feature in Dataset.')\n",
      "C:\\Program Files\\Python38\\lib\\site-packages\\lightgbm\\basic.py:2065: UserWarning: Using categorical_feature in Dataset.\n",
      "  _log_warning('Using categorical_feature in Dataset.')\n",
      "C:\\Program Files\\Python38\\lib\\site-packages\\lightgbm\\basic.py:2065: UserWarning: Using categorical_feature in Dataset.\n",
      "  _log_warning('Using categorical_feature in Dataset.')\n",
      "C:\\Program Files\\Python38\\lib\\site-packages\\lightgbm\\basic.py:2065: UserWarning: Using categorical_feature in Dataset.\n",
      "  _log_warning('Using categorical_feature in Dataset.')\n"
     ]
    },
    {
     "name": "stdout",
     "output_type": "stream",
     "text": [
      "[LightGBM] [Warning] min_sum_hessian_in_leaf is set=0.090931378259608, min_child_weight=0.001 will be ignored. Current value: min_sum_hessian_in_leaf=0.090931378259608\n"
     ]
    },
    {
     "name": "stderr",
     "output_type": "stream",
     "text": [
      "C:\\Program Files\\Python38\\lib\\site-packages\\lightgbm\\basic.py:2065: UserWarning: Using categorical_feature in Dataset.\n",
      "  _log_warning('Using categorical_feature in Dataset.')\n",
      "C:\\Program Files\\Python38\\lib\\site-packages\\lightgbm\\basic.py:2065: UserWarning: Using categorical_feature in Dataset.\n",
      "  _log_warning('Using categorical_feature in Dataset.')\n",
      "C:\\Program Files\\Python38\\lib\\site-packages\\lightgbm\\basic.py:2065: UserWarning: Using categorical_feature in Dataset.\n",
      "  _log_warning('Using categorical_feature in Dataset.')\n",
      "C:\\Program Files\\Python38\\lib\\site-packages\\lightgbm\\basic.py:2065: UserWarning: Using categorical_feature in Dataset.\n",
      "  _log_warning('Using categorical_feature in Dataset.')\n",
      "C:\\Program Files\\Python38\\lib\\site-packages\\lightgbm\\basic.py:2065: UserWarning: Using categorical_feature in Dataset.\n",
      "  _log_warning('Using categorical_feature in Dataset.')\n"
     ]
    },
    {
     "name": "stdout",
     "output_type": "stream",
     "text": [
      "[LightGBM] [Warning] min_sum_hessian_in_leaf is set=0.090931378259608, min_child_weight=0.001 will be ignored. Current value: min_sum_hessian_in_leaf=0.090931378259608\n"
     ]
    },
    {
     "name": "stderr",
     "output_type": "stream",
     "text": [
      "C:\\Program Files\\Python38\\lib\\site-packages\\lightgbm\\basic.py:2065: UserWarning: Using categorical_feature in Dataset.\n",
      "  _log_warning('Using categorical_feature in Dataset.')\n",
      "C:\\Program Files\\Python38\\lib\\site-packages\\lightgbm\\basic.py:2065: UserWarning: Using categorical_feature in Dataset.\n",
      "  _log_warning('Using categorical_feature in Dataset.')\n",
      "C:\\Program Files\\Python38\\lib\\site-packages\\lightgbm\\basic.py:2065: UserWarning: Using categorical_feature in Dataset.\n",
      "  _log_warning('Using categorical_feature in Dataset.')\n",
      "C:\\Program Files\\Python38\\lib\\site-packages\\lightgbm\\basic.py:2065: UserWarning: Using categorical_feature in Dataset.\n",
      "  _log_warning('Using categorical_feature in Dataset.')\n",
      "C:\\Program Files\\Python38\\lib\\site-packages\\lightgbm\\basic.py:2065: UserWarning: Using categorical_feature in Dataset.\n",
      "  _log_warning('Using categorical_feature in Dataset.')\n"
     ]
    },
    {
     "name": "stdout",
     "output_type": "stream",
     "text": [
      "[LightGBM] [Warning] min_sum_hessian_in_leaf is set=0.090931378259608, min_child_weight=0.001 will be ignored. Current value: min_sum_hessian_in_leaf=0.090931378259608\n"
     ]
    },
    {
     "name": "stderr",
     "output_type": "stream",
     "text": [
      "C:\\Program Files\\Python38\\lib\\site-packages\\lightgbm\\basic.py:2065: UserWarning: Using categorical_feature in Dataset.\n",
      "  _log_warning('Using categorical_feature in Dataset.')\n",
      "C:\\Program Files\\Python38\\lib\\site-packages\\lightgbm\\basic.py:2065: UserWarning: Using categorical_feature in Dataset.\n",
      "  _log_warning('Using categorical_feature in Dataset.')\n",
      "C:\\Program Files\\Python38\\lib\\site-packages\\lightgbm\\basic.py:2065: UserWarning: Using categorical_feature in Dataset.\n",
      "  _log_warning('Using categorical_feature in Dataset.')\n",
      "C:\\Program Files\\Python38\\lib\\site-packages\\lightgbm\\basic.py:2065: UserWarning: Using categorical_feature in Dataset.\n",
      "  _log_warning('Using categorical_feature in Dataset.')\n",
      "C:\\Program Files\\Python38\\lib\\site-packages\\lightgbm\\basic.py:2065: UserWarning: Using categorical_feature in Dataset.\n",
      "  _log_warning('Using categorical_feature in Dataset.')\n"
     ]
    },
    {
     "name": "stdout",
     "output_type": "stream",
     "text": [
      "[LightGBM] [Warning] min_sum_hessian_in_leaf is set=0.090931378259608, min_child_weight=0.001 will be ignored. Current value: min_sum_hessian_in_leaf=0.090931378259608\n"
     ]
    },
    {
     "name": "stderr",
     "output_type": "stream",
     "text": [
      "C:\\Program Files\\Python38\\lib\\site-packages\\lightgbm\\basic.py:2065: UserWarning: Using categorical_feature in Dataset.\n",
      "  _log_warning('Using categorical_feature in Dataset.')\n",
      "C:\\Program Files\\Python38\\lib\\site-packages\\lightgbm\\basic.py:2065: UserWarning: Using categorical_feature in Dataset.\n",
      "  _log_warning('Using categorical_feature in Dataset.')\n",
      "C:\\Program Files\\Python38\\lib\\site-packages\\lightgbm\\basic.py:2065: UserWarning: Using categorical_feature in Dataset.\n",
      "  _log_warning('Using categorical_feature in Dataset.')\n",
      "C:\\Program Files\\Python38\\lib\\site-packages\\lightgbm\\basic.py:2065: UserWarning: Using categorical_feature in Dataset.\n",
      "  _log_warning('Using categorical_feature in Dataset.')\n",
      "C:\\Program Files\\Python38\\lib\\site-packages\\lightgbm\\basic.py:2065: UserWarning: Using categorical_feature in Dataset.\n",
      "  _log_warning('Using categorical_feature in Dataset.')\n"
     ]
    },
    {
     "name": "stdout",
     "output_type": "stream",
     "text": [
      "[LightGBM] [Warning] min_sum_hessian_in_leaf is set=0.090931378259608, min_child_weight=0.001 will be ignored. Current value: min_sum_hessian_in_leaf=0.090931378259608\n"
     ]
    },
    {
     "name": "stderr",
     "output_type": "stream",
     "text": [
      "C:\\Program Files\\Python38\\lib\\site-packages\\lightgbm\\basic.py:2065: UserWarning: Using categorical_feature in Dataset.\n",
      "  _log_warning('Using categorical_feature in Dataset.')\n",
      "C:\\Program Files\\Python38\\lib\\site-packages\\lightgbm\\basic.py:2065: UserWarning: Using categorical_feature in Dataset.\n",
      "  _log_warning('Using categorical_feature in Dataset.')\n",
      "C:\\Program Files\\Python38\\lib\\site-packages\\lightgbm\\basic.py:2065: UserWarning: Using categorical_feature in Dataset.\n",
      "  _log_warning('Using categorical_feature in Dataset.')\n",
      "C:\\Program Files\\Python38\\lib\\site-packages\\lightgbm\\basic.py:2065: UserWarning: Using categorical_feature in Dataset.\n",
      "  _log_warning('Using categorical_feature in Dataset.')\n",
      "C:\\Program Files\\Python38\\lib\\site-packages\\lightgbm\\basic.py:2065: UserWarning: Using categorical_feature in Dataset.\n",
      "  _log_warning('Using categorical_feature in Dataset.')\n"
     ]
    },
    {
     "name": "stdout",
     "output_type": "stream",
     "text": [
      "[LightGBM] [Warning] min_sum_hessian_in_leaf is set=0.090931378259608, min_child_weight=0.001 will be ignored. Current value: min_sum_hessian_in_leaf=0.090931378259608\n"
     ]
    },
    {
     "name": "stderr",
     "output_type": "stream",
     "text": [
      "C:\\Program Files\\Python38\\lib\\site-packages\\lightgbm\\basic.py:2065: UserWarning: Using categorical_feature in Dataset.\n",
      "  _log_warning('Using categorical_feature in Dataset.')\n",
      "C:\\Program Files\\Python38\\lib\\site-packages\\lightgbm\\basic.py:2065: UserWarning: Using categorical_feature in Dataset.\n",
      "  _log_warning('Using categorical_feature in Dataset.')\n",
      "C:\\Program Files\\Python38\\lib\\site-packages\\lightgbm\\basic.py:2065: UserWarning: Using categorical_feature in Dataset.\n",
      "  _log_warning('Using categorical_feature in Dataset.')\n",
      "C:\\Program Files\\Python38\\lib\\site-packages\\lightgbm\\basic.py:2065: UserWarning: Using categorical_feature in Dataset.\n",
      "  _log_warning('Using categorical_feature in Dataset.')\n",
      "C:\\Program Files\\Python38\\lib\\site-packages\\lightgbm\\basic.py:2065: UserWarning: Using categorical_feature in Dataset.\n",
      "  _log_warning('Using categorical_feature in Dataset.')\n"
     ]
    },
    {
     "name": "stdout",
     "output_type": "stream",
     "text": [
      "[LightGBM] [Warning] min_sum_hessian_in_leaf is set=0.090931378259608, min_child_weight=0.001 will be ignored. Current value: min_sum_hessian_in_leaf=0.090931378259608\n"
     ]
    },
    {
     "name": "stderr",
     "output_type": "stream",
     "text": [
      "C:\\Program Files\\Python38\\lib\\site-packages\\lightgbm\\basic.py:2065: UserWarning: Using categorical_feature in Dataset.\n",
      "  _log_warning('Using categorical_feature in Dataset.')\n",
      "C:\\Program Files\\Python38\\lib\\site-packages\\lightgbm\\basic.py:2065: UserWarning: Using categorical_feature in Dataset.\n",
      "  _log_warning('Using categorical_feature in Dataset.')\n",
      "C:\\Program Files\\Python38\\lib\\site-packages\\lightgbm\\basic.py:2065: UserWarning: Using categorical_feature in Dataset.\n",
      "  _log_warning('Using categorical_feature in Dataset.')\n",
      "C:\\Program Files\\Python38\\lib\\site-packages\\lightgbm\\basic.py:2065: UserWarning: Using categorical_feature in Dataset.\n",
      "  _log_warning('Using categorical_feature in Dataset.')\n",
      "C:\\Program Files\\Python38\\lib\\site-packages\\lightgbm\\basic.py:2065: UserWarning: Using categorical_feature in Dataset.\n",
      "  _log_warning('Using categorical_feature in Dataset.')\n"
     ]
    },
    {
     "name": "stdout",
     "output_type": "stream",
     "text": [
      "[LightGBM] [Warning] min_sum_hessian_in_leaf is set=0.090931378259608, min_child_weight=0.001 will be ignored. Current value: min_sum_hessian_in_leaf=0.090931378259608\n"
     ]
    },
    {
     "name": "stderr",
     "output_type": "stream",
     "text": [
      "C:\\Program Files\\Python38\\lib\\site-packages\\lightgbm\\basic.py:2065: UserWarning: Using categorical_feature in Dataset.\n",
      "  _log_warning('Using categorical_feature in Dataset.')\n",
      "C:\\Program Files\\Python38\\lib\\site-packages\\lightgbm\\basic.py:2065: UserWarning: Using categorical_feature in Dataset.\n",
      "  _log_warning('Using categorical_feature in Dataset.')\n",
      "C:\\Program Files\\Python38\\lib\\site-packages\\lightgbm\\basic.py:2065: UserWarning: Using categorical_feature in Dataset.\n",
      "  _log_warning('Using categorical_feature in Dataset.')\n",
      "C:\\Program Files\\Python38\\lib\\site-packages\\lightgbm\\basic.py:2065: UserWarning: Using categorical_feature in Dataset.\n",
      "  _log_warning('Using categorical_feature in Dataset.')\n",
      "C:\\Program Files\\Python38\\lib\\site-packages\\lightgbm\\basic.py:2065: UserWarning: Using categorical_feature in Dataset.\n",
      "  _log_warning('Using categorical_feature in Dataset.')\n"
     ]
    },
    {
     "name": "stdout",
     "output_type": "stream",
     "text": [
      "[LightGBM] [Warning] min_sum_hessian_in_leaf is set=0.090931378259608, min_child_weight=0.001 will be ignored. Current value: min_sum_hessian_in_leaf=0.090931378259608\n"
     ]
    },
    {
     "name": "stderr",
     "output_type": "stream",
     "text": [
      "C:\\Program Files\\Python38\\lib\\site-packages\\lightgbm\\basic.py:2065: UserWarning: Using categorical_feature in Dataset.\n",
      "  _log_warning('Using categorical_feature in Dataset.')\n",
      "C:\\Program Files\\Python38\\lib\\site-packages\\lightgbm\\basic.py:2065: UserWarning: Using categorical_feature in Dataset.\n",
      "  _log_warning('Using categorical_feature in Dataset.')\n",
      "C:\\Program Files\\Python38\\lib\\site-packages\\lightgbm\\basic.py:2065: UserWarning: Using categorical_feature in Dataset.\n",
      "  _log_warning('Using categorical_feature in Dataset.')\n",
      "C:\\Program Files\\Python38\\lib\\site-packages\\lightgbm\\basic.py:2065: UserWarning: Using categorical_feature in Dataset.\n",
      "  _log_warning('Using categorical_feature in Dataset.')\n",
      "C:\\Program Files\\Python38\\lib\\site-packages\\lightgbm\\basic.py:2065: UserWarning: Using categorical_feature in Dataset.\n",
      "  _log_warning('Using categorical_feature in Dataset.')\n"
     ]
    },
    {
     "name": "stdout",
     "output_type": "stream",
     "text": [
      "[LightGBM] [Warning] min_sum_hessian_in_leaf is set=0.090931378259608, min_child_weight=0.001 will be ignored. Current value: min_sum_hessian_in_leaf=0.090931378259608\n"
     ]
    },
    {
     "name": "stderr",
     "output_type": "stream",
     "text": [
      "C:\\Program Files\\Python38\\lib\\site-packages\\lightgbm\\basic.py:2065: UserWarning: Using categorical_feature in Dataset.\n",
      "  _log_warning('Using categorical_feature in Dataset.')\n",
      "C:\\Program Files\\Python38\\lib\\site-packages\\lightgbm\\basic.py:2065: UserWarning: Using categorical_feature in Dataset.\n",
      "  _log_warning('Using categorical_feature in Dataset.')\n",
      "C:\\Program Files\\Python38\\lib\\site-packages\\lightgbm\\basic.py:2065: UserWarning: Using categorical_feature in Dataset.\n",
      "  _log_warning('Using categorical_feature in Dataset.')\n",
      "C:\\Program Files\\Python38\\lib\\site-packages\\lightgbm\\basic.py:2065: UserWarning: Using categorical_feature in Dataset.\n",
      "  _log_warning('Using categorical_feature in Dataset.')\n",
      "C:\\Program Files\\Python38\\lib\\site-packages\\lightgbm\\basic.py:2065: UserWarning: Using categorical_feature in Dataset.\n",
      "  _log_warning('Using categorical_feature in Dataset.')\n"
     ]
    },
    {
     "name": "stdout",
     "output_type": "stream",
     "text": [
      "[LightGBM] [Warning] min_sum_hessian_in_leaf is set=0.090931378259608, min_child_weight=0.001 will be ignored. Current value: min_sum_hessian_in_leaf=0.090931378259608\n"
     ]
    },
    {
     "name": "stderr",
     "output_type": "stream",
     "text": [
      "C:\\Program Files\\Python38\\lib\\site-packages\\lightgbm\\basic.py:2065: UserWarning: Using categorical_feature in Dataset.\n",
      "  _log_warning('Using categorical_feature in Dataset.')\n",
      "C:\\Program Files\\Python38\\lib\\site-packages\\lightgbm\\basic.py:2065: UserWarning: Using categorical_feature in Dataset.\n",
      "  _log_warning('Using categorical_feature in Dataset.')\n",
      "C:\\Program Files\\Python38\\lib\\site-packages\\lightgbm\\basic.py:2065: UserWarning: Using categorical_feature in Dataset.\n",
      "  _log_warning('Using categorical_feature in Dataset.')\n",
      "C:\\Program Files\\Python38\\lib\\site-packages\\lightgbm\\basic.py:2065: UserWarning: Using categorical_feature in Dataset.\n",
      "  _log_warning('Using categorical_feature in Dataset.')\n",
      "C:\\Program Files\\Python38\\lib\\site-packages\\lightgbm\\basic.py:2065: UserWarning: Using categorical_feature in Dataset.\n",
      "  _log_warning('Using categorical_feature in Dataset.')\n"
     ]
    },
    {
     "name": "stdout",
     "output_type": "stream",
     "text": [
      "[LightGBM] [Warning] min_sum_hessian_in_leaf is set=0.090931378259608, min_child_weight=0.001 will be ignored. Current value: min_sum_hessian_in_leaf=0.090931378259608\n"
     ]
    },
    {
     "name": "stderr",
     "output_type": "stream",
     "text": [
      "C:\\Program Files\\Python38\\lib\\site-packages\\lightgbm\\basic.py:2065: UserWarning: Using categorical_feature in Dataset.\n",
      "  _log_warning('Using categorical_feature in Dataset.')\n",
      "C:\\Program Files\\Python38\\lib\\site-packages\\lightgbm\\basic.py:2065: UserWarning: Using categorical_feature in Dataset.\n",
      "  _log_warning('Using categorical_feature in Dataset.')\n",
      "C:\\Program Files\\Python38\\lib\\site-packages\\lightgbm\\basic.py:2065: UserWarning: Using categorical_feature in Dataset.\n",
      "  _log_warning('Using categorical_feature in Dataset.')\n",
      "C:\\Program Files\\Python38\\lib\\site-packages\\lightgbm\\basic.py:2065: UserWarning: Using categorical_feature in Dataset.\n",
      "  _log_warning('Using categorical_feature in Dataset.')\n",
      "C:\\Program Files\\Python38\\lib\\site-packages\\lightgbm\\basic.py:2065: UserWarning: Using categorical_feature in Dataset.\n",
      "  _log_warning('Using categorical_feature in Dataset.')\n"
     ]
    },
    {
     "name": "stdout",
     "output_type": "stream",
     "text": [
      "[LightGBM] [Warning] min_sum_hessian_in_leaf is set=0.090931378259608, min_child_weight=0.001 will be ignored. Current value: min_sum_hessian_in_leaf=0.090931378259608\n"
     ]
    },
    {
     "name": "stderr",
     "output_type": "stream",
     "text": [
      "C:\\Program Files\\Python38\\lib\\site-packages\\lightgbm\\basic.py:2065: UserWarning: Using categorical_feature in Dataset.\n",
      "  _log_warning('Using categorical_feature in Dataset.')\n",
      "C:\\Program Files\\Python38\\lib\\site-packages\\lightgbm\\basic.py:2065: UserWarning: Using categorical_feature in Dataset.\n",
      "  _log_warning('Using categorical_feature in Dataset.')\n",
      "C:\\Program Files\\Python38\\lib\\site-packages\\lightgbm\\basic.py:2065: UserWarning: Using categorical_feature in Dataset.\n",
      "  _log_warning('Using categorical_feature in Dataset.')\n",
      "C:\\Program Files\\Python38\\lib\\site-packages\\lightgbm\\basic.py:2065: UserWarning: Using categorical_feature in Dataset.\n",
      "  _log_warning('Using categorical_feature in Dataset.')\n",
      "C:\\Program Files\\Python38\\lib\\site-packages\\lightgbm\\basic.py:2065: UserWarning: Using categorical_feature in Dataset.\n",
      "  _log_warning('Using categorical_feature in Dataset.')\n"
     ]
    },
    {
     "name": "stdout",
     "output_type": "stream",
     "text": [
      "[LightGBM] [Warning] min_sum_hessian_in_leaf is set=0.090931378259608, min_child_weight=0.001 will be ignored. Current value: min_sum_hessian_in_leaf=0.090931378259608\n"
     ]
    },
    {
     "name": "stderr",
     "output_type": "stream",
     "text": [
      "C:\\Program Files\\Python38\\lib\\site-packages\\lightgbm\\basic.py:2065: UserWarning: Using categorical_feature in Dataset.\n",
      "  _log_warning('Using categorical_feature in Dataset.')\n",
      "C:\\Program Files\\Python38\\lib\\site-packages\\lightgbm\\basic.py:2065: UserWarning: Using categorical_feature in Dataset.\n",
      "  _log_warning('Using categorical_feature in Dataset.')\n",
      "C:\\Program Files\\Python38\\lib\\site-packages\\lightgbm\\basic.py:2065: UserWarning: Using categorical_feature in Dataset.\n",
      "  _log_warning('Using categorical_feature in Dataset.')\n",
      "C:\\Program Files\\Python38\\lib\\site-packages\\lightgbm\\basic.py:2065: UserWarning: Using categorical_feature in Dataset.\n",
      "  _log_warning('Using categorical_feature in Dataset.')\n",
      "C:\\Program Files\\Python38\\lib\\site-packages\\lightgbm\\basic.py:2065: UserWarning: Using categorical_feature in Dataset.\n",
      "  _log_warning('Using categorical_feature in Dataset.')\n"
     ]
    },
    {
     "name": "stdout",
     "output_type": "stream",
     "text": [
      "[LightGBM] [Warning] min_sum_hessian_in_leaf is set=0.090931378259608, min_child_weight=0.001 will be ignored. Current value: min_sum_hessian_in_leaf=0.090931378259608\n"
     ]
    },
    {
     "name": "stderr",
     "output_type": "stream",
     "text": [
      "C:\\Program Files\\Python38\\lib\\site-packages\\lightgbm\\basic.py:2065: UserWarning: Using categorical_feature in Dataset.\n",
      "  _log_warning('Using categorical_feature in Dataset.')\n",
      "C:\\Program Files\\Python38\\lib\\site-packages\\lightgbm\\basic.py:2065: UserWarning: Using categorical_feature in Dataset.\n",
      "  _log_warning('Using categorical_feature in Dataset.')\n",
      "C:\\Program Files\\Python38\\lib\\site-packages\\lightgbm\\basic.py:2065: UserWarning: Using categorical_feature in Dataset.\n",
      "  _log_warning('Using categorical_feature in Dataset.')\n",
      "C:\\Program Files\\Python38\\lib\\site-packages\\lightgbm\\basic.py:2065: UserWarning: Using categorical_feature in Dataset.\n",
      "  _log_warning('Using categorical_feature in Dataset.')\n"
     ]
    }
   ],
   "source": [
    "X, Ct = sm_bagged_fit_predict(X_TRAIN, y, X_TEST, sm_params, 5, [333, 444, 555, 777, 888]) #[333, 444, 555, 777, 888]\n",
    "Cd = X"
   ]
  },
  {
   "cell_type": "code",
   "execution_count": 256,
   "metadata": {},
   "outputs": [],
   "source": [
    "ypred = np.array([-1, 3, 4])[np.argmax(Cd, axis=1)] #Cd\n",
    "\n",
    "subm = pd.read_csv(\"sample_submission.csv\")\n",
    "subm[\"Статус\"] = ypred\n",
    "subm.to_csv(\"rez.csv\", encoding='utf-8', sep=',', index=False)"
   ]
  },
  {
   "cell_type": "code",
   "execution_count": 257,
   "metadata": {},
   "outputs": [],
   "source": [
    "yp = np.array([-1, 3, 4])[np.argmax(Ct, axis=1)] #Cd"
   ]
  },
  {
   "cell_type": "code",
   "execution_count": 258,
   "metadata": {},
   "outputs": [
    {
     "data": {
      "text/plain": [
       "0.8046060214720209"
      ]
     },
     "execution_count": 258,
     "metadata": {},
     "output_type": "execute_result"
    }
   ],
   "source": [
    "f1_score(y, yp, average=\"macro\")"
   ]
  },
  {
   "cell_type": "code",
   "execution_count": 107,
   "metadata": {},
   "outputs": [],
   "source": [
    "def ovo_bagged_fit_predict(X_TRAIN, y, X_TEST, ovo_params, n_folds, seeds):\n",
    "    ovo_test_list = []\n",
    "    ovo_train_list = []\n",
    "       \n",
    "    for seed in seeds:\n",
    "    \n",
    "        features_ovo_test = [[], [], []]\n",
    "        \n",
    "        features_ovo = []\n",
    "\n",
    "        preds = [[], [], []]\n",
    "    \n",
    "\n",
    "        for ti, di in StratifiedKFold(n_splits=n_folds, shuffle=True, ).split(X_TRAIN, y):\n",
    "\n",
    "            for i, pair in enumerate([(-1, 3, False), (-1, 4, False), (3, 4, True)]):\n",
    "\n",
    "                Xt = X_TRAIN.iloc[ti]\n",
    "                yt = y[ti]\n",
    "\n",
    "                Xt = Xt[(yt==pair[0])|(yt==pair[1])]\n",
    "                yt = yt[(yt==pair[0])|(yt==pair[1])]\n",
    "\n",
    "                yt = (yt==pair[0]).astype(np.int32)\n",
    "\n",
    "\n",
    "\n",
    "                Xd = X_TRAIN.iloc[di]\n",
    "                yd = y[di]\n",
    "\n",
    "                yd = (yd==pair[0]).astype(np.int32)\n",
    "\n",
    "\n",
    "                if(pair[2]):\n",
    "\n",
    "                    lgbms = fit_lgbms(ovo_params[i], cat_feat, Xt, yt)\n",
    "                    ypred = prdict_lgbms_proba(lgbms, Xd)\n",
    "                    features_ovo_test[i].append(prdict_lgbms_proba(lgbms, X_TEST))\n",
    "\n",
    "                else:\n",
    "                    lgbm = LGBMClassifier(is_unbalance=True, **ovo_params[i])\n",
    "                    \n",
    "\n",
    "                    lgbm.fit(\n",
    "                        Xt,\n",
    "                        yt, categorical_feature=cat_feat\n",
    "                    )\n",
    "                    \n",
    "                    ypred = lgbm.predict_proba(Xd)[:,1]\n",
    "                \n",
    "                    features_ovo_test[i].append(lgbm.predict_proba(X_TEST)[:,1])\n",
    "                preds[i].append((di, ypred))\n",
    "\n",
    "                    \n",
    "        for j in range(3):\n",
    "\n",
    "            yprom = np.zeros((len(X_TRAIN), ))\n",
    "\n",
    "            for i in range(n_folds):\n",
    "                yprom[preds[j][i][0]] = preds[j][i][1]\n",
    "\n",
    "            features_ovo.append(yprom.copy())\n",
    "\n",
    "        ovo_test = [np.vstack(features_ovo_test[0]).mean(axis=0), np.vstack(features_ovo_test[1]).mean(axis=0), np.vstack(features_ovo_test[2]).mean(axis=0)]\n",
    "        ovo_test = np.vstack(ovo_test).T\n",
    "        ovo_test_list.append(ovo_test)\n",
    "        \n",
    "        ovo_train = np.vstack(features_ovo).T\n",
    "        ovo_train_list.append(ovo_train)\n",
    "    \n",
    "    \n",
    "    return np.stack(ovo_test_list).mean(axis=0), np.stack(ovo_train_list).mean(axis=0)\n"
   ]
  },
  {
   "cell_type": "code",
   "execution_count": 119,
   "metadata": {},
   "outputs": [
    {
     "name": "stderr",
     "output_type": "stream",
     "text": [
      "C:\\Program Files\\Python38\\lib\\site-packages\\lightgbm\\basic.py:2065: UserWarning: Using categorical_feature in Dataset.\n",
      "  _log_warning('Using categorical_feature in Dataset.')\n"
     ]
    },
    {
     "name": "stdout",
     "output_type": "stream",
     "text": [
      "[LightGBM] [Warning] min_sum_hessian_in_leaf is set=0.08170754256230839, min_child_weight=0.001 will be ignored. Current value: min_sum_hessian_in_leaf=0.08170754256230839\n"
     ]
    },
    {
     "name": "stderr",
     "output_type": "stream",
     "text": [
      "C:\\Program Files\\Python38\\lib\\site-packages\\lightgbm\\basic.py:2065: UserWarning: Using categorical_feature in Dataset.\n",
      "  _log_warning('Using categorical_feature in Dataset.')\n"
     ]
    },
    {
     "name": "stdout",
     "output_type": "stream",
     "text": [
      "[LightGBM] [Warning] min_sum_hessian_in_leaf is set=0.04559274877300563, min_child_weight=0.001 will be ignored. Current value: min_sum_hessian_in_leaf=0.04559274877300563\n"
     ]
    },
    {
     "name": "stderr",
     "output_type": "stream",
     "text": [
      "C:\\Program Files\\Python38\\lib\\site-packages\\lightgbm\\basic.py:2065: UserWarning: Using categorical_feature in Dataset.\n",
      "  _log_warning('Using categorical_feature in Dataset.')\n"
     ]
    },
    {
     "name": "stdout",
     "output_type": "stream",
     "text": [
      "[LightGBM] [Warning] min_sum_hessian_in_leaf is set=0.05057939553441975, min_child_weight=0.001 will be ignored. Current value: min_sum_hessian_in_leaf=0.05057939553441975\n"
     ]
    },
    {
     "name": "stderr",
     "output_type": "stream",
     "text": [
      "C:\\Program Files\\Python38\\lib\\site-packages\\lightgbm\\basic.py:2065: UserWarning: Using categorical_feature in Dataset.\n",
      "  _log_warning('Using categorical_feature in Dataset.')\n",
      "C:\\Program Files\\Python38\\lib\\site-packages\\lightgbm\\basic.py:2065: UserWarning: Using categorical_feature in Dataset.\n",
      "  _log_warning('Using categorical_feature in Dataset.')\n",
      "C:\\Program Files\\Python38\\lib\\site-packages\\lightgbm\\basic.py:2065: UserWarning: Using categorical_feature in Dataset.\n",
      "  _log_warning('Using categorical_feature in Dataset.')\n",
      "C:\\Program Files\\Python38\\lib\\site-packages\\lightgbm\\basic.py:2065: UserWarning: Using categorical_feature in Dataset.\n",
      "  _log_warning('Using categorical_feature in Dataset.')\n",
      "C:\\Program Files\\Python38\\lib\\site-packages\\lightgbm\\basic.py:2065: UserWarning: Using categorical_feature in Dataset.\n",
      "  _log_warning('Using categorical_feature in Dataset.')\n"
     ]
    },
    {
     "name": "stdout",
     "output_type": "stream",
     "text": [
      "[LightGBM] [Warning] min_sum_hessian_in_leaf is set=0.08170754256230839, min_child_weight=0.001 will be ignored. Current value: min_sum_hessian_in_leaf=0.08170754256230839\n"
     ]
    },
    {
     "name": "stderr",
     "output_type": "stream",
     "text": [
      "C:\\Program Files\\Python38\\lib\\site-packages\\lightgbm\\basic.py:2065: UserWarning: Using categorical_feature in Dataset.\n",
      "  _log_warning('Using categorical_feature in Dataset.')\n"
     ]
    },
    {
     "name": "stdout",
     "output_type": "stream",
     "text": [
      "[LightGBM] [Warning] min_sum_hessian_in_leaf is set=0.04559274877300563, min_child_weight=0.001 will be ignored. Current value: min_sum_hessian_in_leaf=0.04559274877300563\n"
     ]
    },
    {
     "name": "stderr",
     "output_type": "stream",
     "text": [
      "C:\\Program Files\\Python38\\lib\\site-packages\\lightgbm\\basic.py:2065: UserWarning: Using categorical_feature in Dataset.\n",
      "  _log_warning('Using categorical_feature in Dataset.')\n"
     ]
    },
    {
     "name": "stdout",
     "output_type": "stream",
     "text": [
      "[LightGBM] [Warning] min_sum_hessian_in_leaf is set=0.05057939553441975, min_child_weight=0.001 will be ignored. Current value: min_sum_hessian_in_leaf=0.05057939553441975\n"
     ]
    },
    {
     "name": "stderr",
     "output_type": "stream",
     "text": [
      "C:\\Program Files\\Python38\\lib\\site-packages\\lightgbm\\basic.py:2065: UserWarning: Using categorical_feature in Dataset.\n",
      "  _log_warning('Using categorical_feature in Dataset.')\n",
      "C:\\Program Files\\Python38\\lib\\site-packages\\lightgbm\\basic.py:2065: UserWarning: Using categorical_feature in Dataset.\n",
      "  _log_warning('Using categorical_feature in Dataset.')\n",
      "C:\\Program Files\\Python38\\lib\\site-packages\\lightgbm\\basic.py:2065: UserWarning: Using categorical_feature in Dataset.\n",
      "  _log_warning('Using categorical_feature in Dataset.')\n",
      "C:\\Program Files\\Python38\\lib\\site-packages\\lightgbm\\basic.py:2065: UserWarning: Using categorical_feature in Dataset.\n",
      "  _log_warning('Using categorical_feature in Dataset.')\n",
      "C:\\Program Files\\Python38\\lib\\site-packages\\lightgbm\\basic.py:2065: UserWarning: Using categorical_feature in Dataset.\n",
      "  _log_warning('Using categorical_feature in Dataset.')\n"
     ]
    },
    {
     "name": "stdout",
     "output_type": "stream",
     "text": [
      "[LightGBM] [Warning] min_sum_hessian_in_leaf is set=0.08170754256230839, min_child_weight=0.001 will be ignored. Current value: min_sum_hessian_in_leaf=0.08170754256230839\n"
     ]
    },
    {
     "name": "stderr",
     "output_type": "stream",
     "text": [
      "C:\\Program Files\\Python38\\lib\\site-packages\\lightgbm\\basic.py:2065: UserWarning: Using categorical_feature in Dataset.\n",
      "  _log_warning('Using categorical_feature in Dataset.')\n"
     ]
    },
    {
     "name": "stdout",
     "output_type": "stream",
     "text": [
      "[LightGBM] [Warning] min_sum_hessian_in_leaf is set=0.04559274877300563, min_child_weight=0.001 will be ignored. Current value: min_sum_hessian_in_leaf=0.04559274877300563\n"
     ]
    },
    {
     "name": "stderr",
     "output_type": "stream",
     "text": [
      "C:\\Program Files\\Python38\\lib\\site-packages\\lightgbm\\basic.py:2065: UserWarning: Using categorical_feature in Dataset.\n",
      "  _log_warning('Using categorical_feature in Dataset.')\n"
     ]
    },
    {
     "name": "stdout",
     "output_type": "stream",
     "text": [
      "[LightGBM] [Warning] min_sum_hessian_in_leaf is set=0.05057939553441975, min_child_weight=0.001 will be ignored. Current value: min_sum_hessian_in_leaf=0.05057939553441975\n"
     ]
    },
    {
     "name": "stderr",
     "output_type": "stream",
     "text": [
      "C:\\Program Files\\Python38\\lib\\site-packages\\lightgbm\\basic.py:2065: UserWarning: Using categorical_feature in Dataset.\n",
      "  _log_warning('Using categorical_feature in Dataset.')\n",
      "C:\\Program Files\\Python38\\lib\\site-packages\\lightgbm\\basic.py:2065: UserWarning: Using categorical_feature in Dataset.\n",
      "  _log_warning('Using categorical_feature in Dataset.')\n",
      "C:\\Program Files\\Python38\\lib\\site-packages\\lightgbm\\basic.py:2065: UserWarning: Using categorical_feature in Dataset.\n",
      "  _log_warning('Using categorical_feature in Dataset.')\n",
      "C:\\Program Files\\Python38\\lib\\site-packages\\lightgbm\\basic.py:2065: UserWarning: Using categorical_feature in Dataset.\n",
      "  _log_warning('Using categorical_feature in Dataset.')\n",
      "C:\\Program Files\\Python38\\lib\\site-packages\\lightgbm\\basic.py:2065: UserWarning: Using categorical_feature in Dataset.\n",
      "  _log_warning('Using categorical_feature in Dataset.')\n"
     ]
    },
    {
     "name": "stdout",
     "output_type": "stream",
     "text": [
      "[LightGBM] [Warning] min_sum_hessian_in_leaf is set=0.08170754256230839, min_child_weight=0.001 will be ignored. Current value: min_sum_hessian_in_leaf=0.08170754256230839\n"
     ]
    },
    {
     "name": "stderr",
     "output_type": "stream",
     "text": [
      "C:\\Program Files\\Python38\\lib\\site-packages\\lightgbm\\basic.py:2065: UserWarning: Using categorical_feature in Dataset.\n",
      "  _log_warning('Using categorical_feature in Dataset.')\n"
     ]
    },
    {
     "name": "stdout",
     "output_type": "stream",
     "text": [
      "[LightGBM] [Warning] min_sum_hessian_in_leaf is set=0.04559274877300563, min_child_weight=0.001 will be ignored. Current value: min_sum_hessian_in_leaf=0.04559274877300563\n"
     ]
    },
    {
     "name": "stderr",
     "output_type": "stream",
     "text": [
      "C:\\Program Files\\Python38\\lib\\site-packages\\lightgbm\\basic.py:2065: UserWarning: Using categorical_feature in Dataset.\n",
      "  _log_warning('Using categorical_feature in Dataset.')\n"
     ]
    },
    {
     "name": "stdout",
     "output_type": "stream",
     "text": [
      "[LightGBM] [Warning] min_sum_hessian_in_leaf is set=0.05057939553441975, min_child_weight=0.001 will be ignored. Current value: min_sum_hessian_in_leaf=0.05057939553441975\n"
     ]
    },
    {
     "name": "stderr",
     "output_type": "stream",
     "text": [
      "C:\\Program Files\\Python38\\lib\\site-packages\\lightgbm\\basic.py:2065: UserWarning: Using categorical_feature in Dataset.\n",
      "  _log_warning('Using categorical_feature in Dataset.')\n",
      "C:\\Program Files\\Python38\\lib\\site-packages\\lightgbm\\basic.py:2065: UserWarning: Using categorical_feature in Dataset.\n",
      "  _log_warning('Using categorical_feature in Dataset.')\n",
      "C:\\Program Files\\Python38\\lib\\site-packages\\lightgbm\\basic.py:2065: UserWarning: Using categorical_feature in Dataset.\n",
      "  _log_warning('Using categorical_feature in Dataset.')\n",
      "C:\\Program Files\\Python38\\lib\\site-packages\\lightgbm\\basic.py:2065: UserWarning: Using categorical_feature in Dataset.\n",
      "  _log_warning('Using categorical_feature in Dataset.')\n",
      "C:\\Program Files\\Python38\\lib\\site-packages\\lightgbm\\basic.py:2065: UserWarning: Using categorical_feature in Dataset.\n",
      "  _log_warning('Using categorical_feature in Dataset.')\n"
     ]
    },
    {
     "name": "stdout",
     "output_type": "stream",
     "text": [
      "[LightGBM] [Warning] min_sum_hessian_in_leaf is set=0.08170754256230839, min_child_weight=0.001 will be ignored. Current value: min_sum_hessian_in_leaf=0.08170754256230839\n"
     ]
    },
    {
     "name": "stderr",
     "output_type": "stream",
     "text": [
      "C:\\Program Files\\Python38\\lib\\site-packages\\lightgbm\\basic.py:2065: UserWarning: Using categorical_feature in Dataset.\n",
      "  _log_warning('Using categorical_feature in Dataset.')\n"
     ]
    },
    {
     "name": "stdout",
     "output_type": "stream",
     "text": [
      "[LightGBM] [Warning] min_sum_hessian_in_leaf is set=0.04559274877300563, min_child_weight=0.001 will be ignored. Current value: min_sum_hessian_in_leaf=0.04559274877300563\n"
     ]
    },
    {
     "name": "stderr",
     "output_type": "stream",
     "text": [
      "C:\\Program Files\\Python38\\lib\\site-packages\\lightgbm\\basic.py:2065: UserWarning: Using categorical_feature in Dataset.\n",
      "  _log_warning('Using categorical_feature in Dataset.')\n"
     ]
    },
    {
     "name": "stdout",
     "output_type": "stream",
     "text": [
      "[LightGBM] [Warning] min_sum_hessian_in_leaf is set=0.05057939553441975, min_child_weight=0.001 will be ignored. Current value: min_sum_hessian_in_leaf=0.05057939553441975\n"
     ]
    },
    {
     "name": "stderr",
     "output_type": "stream",
     "text": [
      "C:\\Program Files\\Python38\\lib\\site-packages\\lightgbm\\basic.py:2065: UserWarning: Using categorical_feature in Dataset.\n",
      "  _log_warning('Using categorical_feature in Dataset.')\n",
      "C:\\Program Files\\Python38\\lib\\site-packages\\lightgbm\\basic.py:2065: UserWarning: Using categorical_feature in Dataset.\n",
      "  _log_warning('Using categorical_feature in Dataset.')\n",
      "C:\\Program Files\\Python38\\lib\\site-packages\\lightgbm\\basic.py:2065: UserWarning: Using categorical_feature in Dataset.\n",
      "  _log_warning('Using categorical_feature in Dataset.')\n",
      "C:\\Program Files\\Python38\\lib\\site-packages\\lightgbm\\basic.py:2065: UserWarning: Using categorical_feature in Dataset.\n",
      "  _log_warning('Using categorical_feature in Dataset.')\n",
      "C:\\Program Files\\Python38\\lib\\site-packages\\lightgbm\\basic.py:2065: UserWarning: Using categorical_feature in Dataset.\n",
      "  _log_warning('Using categorical_feature in Dataset.')\n"
     ]
    },
    {
     "name": "stdout",
     "output_type": "stream",
     "text": [
      "[LightGBM] [Warning] min_sum_hessian_in_leaf is set=0.08170754256230839, min_child_weight=0.001 will be ignored. Current value: min_sum_hessian_in_leaf=0.08170754256230839\n"
     ]
    },
    {
     "name": "stderr",
     "output_type": "stream",
     "text": [
      "C:\\Program Files\\Python38\\lib\\site-packages\\lightgbm\\basic.py:2065: UserWarning: Using categorical_feature in Dataset.\n",
      "  _log_warning('Using categorical_feature in Dataset.')\n"
     ]
    },
    {
     "name": "stdout",
     "output_type": "stream",
     "text": [
      "[LightGBM] [Warning] min_sum_hessian_in_leaf is set=0.04559274877300563, min_child_weight=0.001 will be ignored. Current value: min_sum_hessian_in_leaf=0.04559274877300563\n"
     ]
    },
    {
     "name": "stderr",
     "output_type": "stream",
     "text": [
      "C:\\Program Files\\Python38\\lib\\site-packages\\lightgbm\\basic.py:2065: UserWarning: Using categorical_feature in Dataset.\n",
      "  _log_warning('Using categorical_feature in Dataset.')\n"
     ]
    },
    {
     "name": "stdout",
     "output_type": "stream",
     "text": [
      "[LightGBM] [Warning] min_sum_hessian_in_leaf is set=0.05057939553441975, min_child_weight=0.001 will be ignored. Current value: min_sum_hessian_in_leaf=0.05057939553441975\n"
     ]
    },
    {
     "name": "stderr",
     "output_type": "stream",
     "text": [
      "C:\\Program Files\\Python38\\lib\\site-packages\\lightgbm\\basic.py:2065: UserWarning: Using categorical_feature in Dataset.\n",
      "  _log_warning('Using categorical_feature in Dataset.')\n",
      "C:\\Program Files\\Python38\\lib\\site-packages\\lightgbm\\basic.py:2065: UserWarning: Using categorical_feature in Dataset.\n",
      "  _log_warning('Using categorical_feature in Dataset.')\n",
      "C:\\Program Files\\Python38\\lib\\site-packages\\lightgbm\\basic.py:2065: UserWarning: Using categorical_feature in Dataset.\n",
      "  _log_warning('Using categorical_feature in Dataset.')\n",
      "C:\\Program Files\\Python38\\lib\\site-packages\\lightgbm\\basic.py:2065: UserWarning: Using categorical_feature in Dataset.\n",
      "  _log_warning('Using categorical_feature in Dataset.')\n",
      "C:\\Program Files\\Python38\\lib\\site-packages\\lightgbm\\basic.py:2065: UserWarning: Using categorical_feature in Dataset.\n",
      "  _log_warning('Using categorical_feature in Dataset.')\n"
     ]
    },
    {
     "name": "stdout",
     "output_type": "stream",
     "text": [
      "[LightGBM] [Warning] min_sum_hessian_in_leaf is set=0.08170754256230839, min_child_weight=0.001 will be ignored. Current value: min_sum_hessian_in_leaf=0.08170754256230839\n"
     ]
    },
    {
     "name": "stderr",
     "output_type": "stream",
     "text": [
      "C:\\Program Files\\Python38\\lib\\site-packages\\lightgbm\\basic.py:2065: UserWarning: Using categorical_feature in Dataset.\n",
      "  _log_warning('Using categorical_feature in Dataset.')\n"
     ]
    },
    {
     "name": "stdout",
     "output_type": "stream",
     "text": [
      "[LightGBM] [Warning] min_sum_hessian_in_leaf is set=0.04559274877300563, min_child_weight=0.001 will be ignored. Current value: min_sum_hessian_in_leaf=0.04559274877300563\n"
     ]
    },
    {
     "name": "stderr",
     "output_type": "stream",
     "text": [
      "C:\\Program Files\\Python38\\lib\\site-packages\\lightgbm\\basic.py:2065: UserWarning: Using categorical_feature in Dataset.\n",
      "  _log_warning('Using categorical_feature in Dataset.')\n"
     ]
    },
    {
     "name": "stdout",
     "output_type": "stream",
     "text": [
      "[LightGBM] [Warning] min_sum_hessian_in_leaf is set=0.05057939553441975, min_child_weight=0.001 will be ignored. Current value: min_sum_hessian_in_leaf=0.05057939553441975\n"
     ]
    },
    {
     "name": "stderr",
     "output_type": "stream",
     "text": [
      "C:\\Program Files\\Python38\\lib\\site-packages\\lightgbm\\basic.py:2065: UserWarning: Using categorical_feature in Dataset.\n",
      "  _log_warning('Using categorical_feature in Dataset.')\n",
      "C:\\Program Files\\Python38\\lib\\site-packages\\lightgbm\\basic.py:2065: UserWarning: Using categorical_feature in Dataset.\n",
      "  _log_warning('Using categorical_feature in Dataset.')\n",
      "C:\\Program Files\\Python38\\lib\\site-packages\\lightgbm\\basic.py:2065: UserWarning: Using categorical_feature in Dataset.\n",
      "  _log_warning('Using categorical_feature in Dataset.')\n",
      "C:\\Program Files\\Python38\\lib\\site-packages\\lightgbm\\basic.py:2065: UserWarning: Using categorical_feature in Dataset.\n",
      "  _log_warning('Using categorical_feature in Dataset.')\n",
      "C:\\Program Files\\Python38\\lib\\site-packages\\lightgbm\\basic.py:2065: UserWarning: Using categorical_feature in Dataset.\n",
      "  _log_warning('Using categorical_feature in Dataset.')\n"
     ]
    },
    {
     "name": "stdout",
     "output_type": "stream",
     "text": [
      "[LightGBM] [Warning] min_sum_hessian_in_leaf is set=0.08170754256230839, min_child_weight=0.001 will be ignored. Current value: min_sum_hessian_in_leaf=0.08170754256230839\n"
     ]
    },
    {
     "name": "stderr",
     "output_type": "stream",
     "text": [
      "C:\\Program Files\\Python38\\lib\\site-packages\\lightgbm\\basic.py:2065: UserWarning: Using categorical_feature in Dataset.\n",
      "  _log_warning('Using categorical_feature in Dataset.')\n"
     ]
    },
    {
     "name": "stdout",
     "output_type": "stream",
     "text": [
      "[LightGBM] [Warning] min_sum_hessian_in_leaf is set=0.04559274877300563, min_child_weight=0.001 will be ignored. Current value: min_sum_hessian_in_leaf=0.04559274877300563\n"
     ]
    },
    {
     "name": "stderr",
     "output_type": "stream",
     "text": [
      "C:\\Program Files\\Python38\\lib\\site-packages\\lightgbm\\basic.py:2065: UserWarning: Using categorical_feature in Dataset.\n",
      "  _log_warning('Using categorical_feature in Dataset.')\n"
     ]
    },
    {
     "name": "stdout",
     "output_type": "stream",
     "text": [
      "[LightGBM] [Warning] min_sum_hessian_in_leaf is set=0.05057939553441975, min_child_weight=0.001 will be ignored. Current value: min_sum_hessian_in_leaf=0.05057939553441975\n"
     ]
    },
    {
     "name": "stderr",
     "output_type": "stream",
     "text": [
      "C:\\Program Files\\Python38\\lib\\site-packages\\lightgbm\\basic.py:2065: UserWarning: Using categorical_feature in Dataset.\n",
      "  _log_warning('Using categorical_feature in Dataset.')\n",
      "C:\\Program Files\\Python38\\lib\\site-packages\\lightgbm\\basic.py:2065: UserWarning: Using categorical_feature in Dataset.\n",
      "  _log_warning('Using categorical_feature in Dataset.')\n",
      "C:\\Program Files\\Python38\\lib\\site-packages\\lightgbm\\basic.py:2065: UserWarning: Using categorical_feature in Dataset.\n",
      "  _log_warning('Using categorical_feature in Dataset.')\n",
      "C:\\Program Files\\Python38\\lib\\site-packages\\lightgbm\\basic.py:2065: UserWarning: Using categorical_feature in Dataset.\n",
      "  _log_warning('Using categorical_feature in Dataset.')\n",
      "C:\\Program Files\\Python38\\lib\\site-packages\\lightgbm\\basic.py:2065: UserWarning: Using categorical_feature in Dataset.\n",
      "  _log_warning('Using categorical_feature in Dataset.')\n"
     ]
    },
    {
     "name": "stdout",
     "output_type": "stream",
     "text": [
      "[LightGBM] [Warning] min_sum_hessian_in_leaf is set=0.08170754256230839, min_child_weight=0.001 will be ignored. Current value: min_sum_hessian_in_leaf=0.08170754256230839\n"
     ]
    },
    {
     "name": "stderr",
     "output_type": "stream",
     "text": [
      "C:\\Program Files\\Python38\\lib\\site-packages\\lightgbm\\basic.py:2065: UserWarning: Using categorical_feature in Dataset.\n",
      "  _log_warning('Using categorical_feature in Dataset.')\n"
     ]
    },
    {
     "name": "stdout",
     "output_type": "stream",
     "text": [
      "[LightGBM] [Warning] min_sum_hessian_in_leaf is set=0.04559274877300563, min_child_weight=0.001 will be ignored. Current value: min_sum_hessian_in_leaf=0.04559274877300563\n"
     ]
    },
    {
     "name": "stderr",
     "output_type": "stream",
     "text": [
      "C:\\Program Files\\Python38\\lib\\site-packages\\lightgbm\\basic.py:2065: UserWarning: Using categorical_feature in Dataset.\n",
      "  _log_warning('Using categorical_feature in Dataset.')\n"
     ]
    },
    {
     "name": "stdout",
     "output_type": "stream",
     "text": [
      "[LightGBM] [Warning] min_sum_hessian_in_leaf is set=0.05057939553441975, min_child_weight=0.001 will be ignored. Current value: min_sum_hessian_in_leaf=0.05057939553441975\n"
     ]
    },
    {
     "name": "stderr",
     "output_type": "stream",
     "text": [
      "C:\\Program Files\\Python38\\lib\\site-packages\\lightgbm\\basic.py:2065: UserWarning: Using categorical_feature in Dataset.\n",
      "  _log_warning('Using categorical_feature in Dataset.')\n",
      "C:\\Program Files\\Python38\\lib\\site-packages\\lightgbm\\basic.py:2065: UserWarning: Using categorical_feature in Dataset.\n",
      "  _log_warning('Using categorical_feature in Dataset.')\n",
      "C:\\Program Files\\Python38\\lib\\site-packages\\lightgbm\\basic.py:2065: UserWarning: Using categorical_feature in Dataset.\n",
      "  _log_warning('Using categorical_feature in Dataset.')\n",
      "C:\\Program Files\\Python38\\lib\\site-packages\\lightgbm\\basic.py:2065: UserWarning: Using categorical_feature in Dataset.\n",
      "  _log_warning('Using categorical_feature in Dataset.')\n",
      "C:\\Program Files\\Python38\\lib\\site-packages\\lightgbm\\basic.py:2065: UserWarning: Using categorical_feature in Dataset.\n",
      "  _log_warning('Using categorical_feature in Dataset.')\n"
     ]
    },
    {
     "name": "stdout",
     "output_type": "stream",
     "text": [
      "[LightGBM] [Warning] min_sum_hessian_in_leaf is set=0.08170754256230839, min_child_weight=0.001 will be ignored. Current value: min_sum_hessian_in_leaf=0.08170754256230839\n"
     ]
    },
    {
     "name": "stderr",
     "output_type": "stream",
     "text": [
      "C:\\Program Files\\Python38\\lib\\site-packages\\lightgbm\\basic.py:2065: UserWarning: Using categorical_feature in Dataset.\n",
      "  _log_warning('Using categorical_feature in Dataset.')\n"
     ]
    },
    {
     "name": "stdout",
     "output_type": "stream",
     "text": [
      "[LightGBM] [Warning] min_sum_hessian_in_leaf is set=0.04559274877300563, min_child_weight=0.001 will be ignored. Current value: min_sum_hessian_in_leaf=0.04559274877300563\n"
     ]
    },
    {
     "name": "stderr",
     "output_type": "stream",
     "text": [
      "C:\\Program Files\\Python38\\lib\\site-packages\\lightgbm\\basic.py:2065: UserWarning: Using categorical_feature in Dataset.\n",
      "  _log_warning('Using categorical_feature in Dataset.')\n"
     ]
    },
    {
     "name": "stdout",
     "output_type": "stream",
     "text": [
      "[LightGBM] [Warning] min_sum_hessian_in_leaf is set=0.05057939553441975, min_child_weight=0.001 will be ignored. Current value: min_sum_hessian_in_leaf=0.05057939553441975\n"
     ]
    },
    {
     "name": "stderr",
     "output_type": "stream",
     "text": [
      "C:\\Program Files\\Python38\\lib\\site-packages\\lightgbm\\basic.py:2065: UserWarning: Using categorical_feature in Dataset.\n",
      "  _log_warning('Using categorical_feature in Dataset.')\n",
      "C:\\Program Files\\Python38\\lib\\site-packages\\lightgbm\\basic.py:2065: UserWarning: Using categorical_feature in Dataset.\n",
      "  _log_warning('Using categorical_feature in Dataset.')\n",
      "C:\\Program Files\\Python38\\lib\\site-packages\\lightgbm\\basic.py:2065: UserWarning: Using categorical_feature in Dataset.\n",
      "  _log_warning('Using categorical_feature in Dataset.')\n",
      "C:\\Program Files\\Python38\\lib\\site-packages\\lightgbm\\basic.py:2065: UserWarning: Using categorical_feature in Dataset.\n",
      "  _log_warning('Using categorical_feature in Dataset.')\n",
      "C:\\Program Files\\Python38\\lib\\site-packages\\lightgbm\\basic.py:2065: UserWarning: Using categorical_feature in Dataset.\n",
      "  _log_warning('Using categorical_feature in Dataset.')\n"
     ]
    },
    {
     "name": "stdout",
     "output_type": "stream",
     "text": [
      "[LightGBM] [Warning] min_sum_hessian_in_leaf is set=0.08170754256230839, min_child_weight=0.001 will be ignored. Current value: min_sum_hessian_in_leaf=0.08170754256230839\n"
     ]
    },
    {
     "name": "stderr",
     "output_type": "stream",
     "text": [
      "C:\\Program Files\\Python38\\lib\\site-packages\\lightgbm\\basic.py:2065: UserWarning: Using categorical_feature in Dataset.\n",
      "  _log_warning('Using categorical_feature in Dataset.')\n"
     ]
    },
    {
     "name": "stdout",
     "output_type": "stream",
     "text": [
      "[LightGBM] [Warning] min_sum_hessian_in_leaf is set=0.04559274877300563, min_child_weight=0.001 will be ignored. Current value: min_sum_hessian_in_leaf=0.04559274877300563\n"
     ]
    },
    {
     "name": "stderr",
     "output_type": "stream",
     "text": [
      "C:\\Program Files\\Python38\\lib\\site-packages\\lightgbm\\basic.py:2065: UserWarning: Using categorical_feature in Dataset.\n",
      "  _log_warning('Using categorical_feature in Dataset.')\n"
     ]
    },
    {
     "name": "stdout",
     "output_type": "stream",
     "text": [
      "[LightGBM] [Warning] min_sum_hessian_in_leaf is set=0.05057939553441975, min_child_weight=0.001 will be ignored. Current value: min_sum_hessian_in_leaf=0.05057939553441975\n"
     ]
    },
    {
     "name": "stderr",
     "output_type": "stream",
     "text": [
      "C:\\Program Files\\Python38\\lib\\site-packages\\lightgbm\\basic.py:2065: UserWarning: Using categorical_feature in Dataset.\n",
      "  _log_warning('Using categorical_feature in Dataset.')\n",
      "C:\\Program Files\\Python38\\lib\\site-packages\\lightgbm\\basic.py:2065: UserWarning: Using categorical_feature in Dataset.\n",
      "  _log_warning('Using categorical_feature in Dataset.')\n",
      "C:\\Program Files\\Python38\\lib\\site-packages\\lightgbm\\basic.py:2065: UserWarning: Using categorical_feature in Dataset.\n",
      "  _log_warning('Using categorical_feature in Dataset.')\n",
      "C:\\Program Files\\Python38\\lib\\site-packages\\lightgbm\\basic.py:2065: UserWarning: Using categorical_feature in Dataset.\n",
      "  _log_warning('Using categorical_feature in Dataset.')\n",
      "C:\\Program Files\\Python38\\lib\\site-packages\\lightgbm\\basic.py:2065: UserWarning: Using categorical_feature in Dataset.\n",
      "  _log_warning('Using categorical_feature in Dataset.')\n"
     ]
    },
    {
     "name": "stdout",
     "output_type": "stream",
     "text": [
      "[LightGBM] [Warning] min_sum_hessian_in_leaf is set=0.08170754256230839, min_child_weight=0.001 will be ignored. Current value: min_sum_hessian_in_leaf=0.08170754256230839\n"
     ]
    },
    {
     "name": "stderr",
     "output_type": "stream",
     "text": [
      "C:\\Program Files\\Python38\\lib\\site-packages\\lightgbm\\basic.py:2065: UserWarning: Using categorical_feature in Dataset.\n",
      "  _log_warning('Using categorical_feature in Dataset.')\n"
     ]
    },
    {
     "name": "stdout",
     "output_type": "stream",
     "text": [
      "[LightGBM] [Warning] min_sum_hessian_in_leaf is set=0.04559274877300563, min_child_weight=0.001 will be ignored. Current value: min_sum_hessian_in_leaf=0.04559274877300563\n"
     ]
    },
    {
     "name": "stderr",
     "output_type": "stream",
     "text": [
      "C:\\Program Files\\Python38\\lib\\site-packages\\lightgbm\\basic.py:2065: UserWarning: Using categorical_feature in Dataset.\n",
      "  _log_warning('Using categorical_feature in Dataset.')\n"
     ]
    },
    {
     "name": "stdout",
     "output_type": "stream",
     "text": [
      "[LightGBM] [Warning] min_sum_hessian_in_leaf is set=0.05057939553441975, min_child_weight=0.001 will be ignored. Current value: min_sum_hessian_in_leaf=0.05057939553441975\n"
     ]
    },
    {
     "name": "stderr",
     "output_type": "stream",
     "text": [
      "C:\\Program Files\\Python38\\lib\\site-packages\\lightgbm\\basic.py:2065: UserWarning: Using categorical_feature in Dataset.\n",
      "  _log_warning('Using categorical_feature in Dataset.')\n",
      "C:\\Program Files\\Python38\\lib\\site-packages\\lightgbm\\basic.py:2065: UserWarning: Using categorical_feature in Dataset.\n",
      "  _log_warning('Using categorical_feature in Dataset.')\n",
      "C:\\Program Files\\Python38\\lib\\site-packages\\lightgbm\\basic.py:2065: UserWarning: Using categorical_feature in Dataset.\n",
      "  _log_warning('Using categorical_feature in Dataset.')\n",
      "C:\\Program Files\\Python38\\lib\\site-packages\\lightgbm\\basic.py:2065: UserWarning: Using categorical_feature in Dataset.\n",
      "  _log_warning('Using categorical_feature in Dataset.')\n",
      "C:\\Program Files\\Python38\\lib\\site-packages\\lightgbm\\basic.py:2065: UserWarning: Using categorical_feature in Dataset.\n",
      "  _log_warning('Using categorical_feature in Dataset.')\n"
     ]
    },
    {
     "name": "stdout",
     "output_type": "stream",
     "text": [
      "[LightGBM] [Warning] min_sum_hessian_in_leaf is set=0.08170754256230839, min_child_weight=0.001 will be ignored. Current value: min_sum_hessian_in_leaf=0.08170754256230839\n"
     ]
    },
    {
     "name": "stderr",
     "output_type": "stream",
     "text": [
      "C:\\Program Files\\Python38\\lib\\site-packages\\lightgbm\\basic.py:2065: UserWarning: Using categorical_feature in Dataset.\n",
      "  _log_warning('Using categorical_feature in Dataset.')\n"
     ]
    },
    {
     "name": "stdout",
     "output_type": "stream",
     "text": [
      "[LightGBM] [Warning] min_sum_hessian_in_leaf is set=0.04559274877300563, min_child_weight=0.001 will be ignored. Current value: min_sum_hessian_in_leaf=0.04559274877300563\n"
     ]
    },
    {
     "name": "stderr",
     "output_type": "stream",
     "text": [
      "C:\\Program Files\\Python38\\lib\\site-packages\\lightgbm\\basic.py:2065: UserWarning: Using categorical_feature in Dataset.\n",
      "  _log_warning('Using categorical_feature in Dataset.')\n"
     ]
    },
    {
     "name": "stdout",
     "output_type": "stream",
     "text": [
      "[LightGBM] [Warning] min_sum_hessian_in_leaf is set=0.05057939553441975, min_child_weight=0.001 will be ignored. Current value: min_sum_hessian_in_leaf=0.05057939553441975\n"
     ]
    },
    {
     "name": "stderr",
     "output_type": "stream",
     "text": [
      "C:\\Program Files\\Python38\\lib\\site-packages\\lightgbm\\basic.py:2065: UserWarning: Using categorical_feature in Dataset.\n",
      "  _log_warning('Using categorical_feature in Dataset.')\n",
      "C:\\Program Files\\Python38\\lib\\site-packages\\lightgbm\\basic.py:2065: UserWarning: Using categorical_feature in Dataset.\n",
      "  _log_warning('Using categorical_feature in Dataset.')\n",
      "C:\\Program Files\\Python38\\lib\\site-packages\\lightgbm\\basic.py:2065: UserWarning: Using categorical_feature in Dataset.\n",
      "  _log_warning('Using categorical_feature in Dataset.')\n",
      "C:\\Program Files\\Python38\\lib\\site-packages\\lightgbm\\basic.py:2065: UserWarning: Using categorical_feature in Dataset.\n",
      "  _log_warning('Using categorical_feature in Dataset.')\n",
      "C:\\Program Files\\Python38\\lib\\site-packages\\lightgbm\\basic.py:2065: UserWarning: Using categorical_feature in Dataset.\n",
      "  _log_warning('Using categorical_feature in Dataset.')\n"
     ]
    },
    {
     "name": "stdout",
     "output_type": "stream",
     "text": [
      "[LightGBM] [Warning] min_sum_hessian_in_leaf is set=0.08170754256230839, min_child_weight=0.001 will be ignored. Current value: min_sum_hessian_in_leaf=0.08170754256230839\n"
     ]
    },
    {
     "name": "stderr",
     "output_type": "stream",
     "text": [
      "C:\\Program Files\\Python38\\lib\\site-packages\\lightgbm\\basic.py:2065: UserWarning: Using categorical_feature in Dataset.\n",
      "  _log_warning('Using categorical_feature in Dataset.')\n"
     ]
    },
    {
     "name": "stdout",
     "output_type": "stream",
     "text": [
      "[LightGBM] [Warning] min_sum_hessian_in_leaf is set=0.04559274877300563, min_child_weight=0.001 will be ignored. Current value: min_sum_hessian_in_leaf=0.04559274877300563\n"
     ]
    },
    {
     "name": "stderr",
     "output_type": "stream",
     "text": [
      "C:\\Program Files\\Python38\\lib\\site-packages\\lightgbm\\basic.py:2065: UserWarning: Using categorical_feature in Dataset.\n",
      "  _log_warning('Using categorical_feature in Dataset.')\n"
     ]
    },
    {
     "name": "stdout",
     "output_type": "stream",
     "text": [
      "[LightGBM] [Warning] min_sum_hessian_in_leaf is set=0.05057939553441975, min_child_weight=0.001 will be ignored. Current value: min_sum_hessian_in_leaf=0.05057939553441975\n"
     ]
    },
    {
     "name": "stderr",
     "output_type": "stream",
     "text": [
      "C:\\Program Files\\Python38\\lib\\site-packages\\lightgbm\\basic.py:2065: UserWarning: Using categorical_feature in Dataset.\n",
      "  _log_warning('Using categorical_feature in Dataset.')\n",
      "C:\\Program Files\\Python38\\lib\\site-packages\\lightgbm\\basic.py:2065: UserWarning: Using categorical_feature in Dataset.\n",
      "  _log_warning('Using categorical_feature in Dataset.')\n",
      "C:\\Program Files\\Python38\\lib\\site-packages\\lightgbm\\basic.py:2065: UserWarning: Using categorical_feature in Dataset.\n",
      "  _log_warning('Using categorical_feature in Dataset.')\n",
      "C:\\Program Files\\Python38\\lib\\site-packages\\lightgbm\\basic.py:2065: UserWarning: Using categorical_feature in Dataset.\n",
      "  _log_warning('Using categorical_feature in Dataset.')\n",
      "C:\\Program Files\\Python38\\lib\\site-packages\\lightgbm\\basic.py:2065: UserWarning: Using categorical_feature in Dataset.\n",
      "  _log_warning('Using categorical_feature in Dataset.')\n"
     ]
    },
    {
     "name": "stdout",
     "output_type": "stream",
     "text": [
      "[LightGBM] [Warning] min_sum_hessian_in_leaf is set=0.08170754256230839, min_child_weight=0.001 will be ignored. Current value: min_sum_hessian_in_leaf=0.08170754256230839\n"
     ]
    },
    {
     "name": "stderr",
     "output_type": "stream",
     "text": [
      "C:\\Program Files\\Python38\\lib\\site-packages\\lightgbm\\basic.py:2065: UserWarning: Using categorical_feature in Dataset.\n",
      "  _log_warning('Using categorical_feature in Dataset.')\n"
     ]
    },
    {
     "name": "stdout",
     "output_type": "stream",
     "text": [
      "[LightGBM] [Warning] min_sum_hessian_in_leaf is set=0.04559274877300563, min_child_weight=0.001 will be ignored. Current value: min_sum_hessian_in_leaf=0.04559274877300563\n"
     ]
    },
    {
     "name": "stderr",
     "output_type": "stream",
     "text": [
      "C:\\Program Files\\Python38\\lib\\site-packages\\lightgbm\\basic.py:2065: UserWarning: Using categorical_feature in Dataset.\n",
      "  _log_warning('Using categorical_feature in Dataset.')\n"
     ]
    },
    {
     "name": "stdout",
     "output_type": "stream",
     "text": [
      "[LightGBM] [Warning] min_sum_hessian_in_leaf is set=0.05057939553441975, min_child_weight=0.001 will be ignored. Current value: min_sum_hessian_in_leaf=0.05057939553441975\n"
     ]
    },
    {
     "name": "stderr",
     "output_type": "stream",
     "text": [
      "C:\\Program Files\\Python38\\lib\\site-packages\\lightgbm\\basic.py:2065: UserWarning: Using categorical_feature in Dataset.\n",
      "  _log_warning('Using categorical_feature in Dataset.')\n",
      "C:\\Program Files\\Python38\\lib\\site-packages\\lightgbm\\basic.py:2065: UserWarning: Using categorical_feature in Dataset.\n",
      "  _log_warning('Using categorical_feature in Dataset.')\n",
      "C:\\Program Files\\Python38\\lib\\site-packages\\lightgbm\\basic.py:2065: UserWarning: Using categorical_feature in Dataset.\n",
      "  _log_warning('Using categorical_feature in Dataset.')\n",
      "C:\\Program Files\\Python38\\lib\\site-packages\\lightgbm\\basic.py:2065: UserWarning: Using categorical_feature in Dataset.\n",
      "  _log_warning('Using categorical_feature in Dataset.')\n",
      "C:\\Program Files\\Python38\\lib\\site-packages\\lightgbm\\basic.py:2065: UserWarning: Using categorical_feature in Dataset.\n",
      "  _log_warning('Using categorical_feature in Dataset.')\n"
     ]
    },
    {
     "name": "stdout",
     "output_type": "stream",
     "text": [
      "[LightGBM] [Warning] min_sum_hessian_in_leaf is set=0.08170754256230839, min_child_weight=0.001 will be ignored. Current value: min_sum_hessian_in_leaf=0.08170754256230839\n"
     ]
    },
    {
     "name": "stderr",
     "output_type": "stream",
     "text": [
      "C:\\Program Files\\Python38\\lib\\site-packages\\lightgbm\\basic.py:2065: UserWarning: Using categorical_feature in Dataset.\n",
      "  _log_warning('Using categorical_feature in Dataset.')\n"
     ]
    },
    {
     "name": "stdout",
     "output_type": "stream",
     "text": [
      "[LightGBM] [Warning] min_sum_hessian_in_leaf is set=0.04559274877300563, min_child_weight=0.001 will be ignored. Current value: min_sum_hessian_in_leaf=0.04559274877300563\n"
     ]
    },
    {
     "name": "stderr",
     "output_type": "stream",
     "text": [
      "C:\\Program Files\\Python38\\lib\\site-packages\\lightgbm\\basic.py:2065: UserWarning: Using categorical_feature in Dataset.\n",
      "  _log_warning('Using categorical_feature in Dataset.')\n"
     ]
    },
    {
     "name": "stdout",
     "output_type": "stream",
     "text": [
      "[LightGBM] [Warning] min_sum_hessian_in_leaf is set=0.05057939553441975, min_child_weight=0.001 will be ignored. Current value: min_sum_hessian_in_leaf=0.05057939553441975\n"
     ]
    },
    {
     "name": "stderr",
     "output_type": "stream",
     "text": [
      "C:\\Program Files\\Python38\\lib\\site-packages\\lightgbm\\basic.py:2065: UserWarning: Using categorical_feature in Dataset.\n",
      "  _log_warning('Using categorical_feature in Dataset.')\n",
      "C:\\Program Files\\Python38\\lib\\site-packages\\lightgbm\\basic.py:2065: UserWarning: Using categorical_feature in Dataset.\n",
      "  _log_warning('Using categorical_feature in Dataset.')\n",
      "C:\\Program Files\\Python38\\lib\\site-packages\\lightgbm\\basic.py:2065: UserWarning: Using categorical_feature in Dataset.\n",
      "  _log_warning('Using categorical_feature in Dataset.')\n",
      "C:\\Program Files\\Python38\\lib\\site-packages\\lightgbm\\basic.py:2065: UserWarning: Using categorical_feature in Dataset.\n",
      "  _log_warning('Using categorical_feature in Dataset.')\n",
      "C:\\Program Files\\Python38\\lib\\site-packages\\lightgbm\\basic.py:2065: UserWarning: Using categorical_feature in Dataset.\n",
      "  _log_warning('Using categorical_feature in Dataset.')\n"
     ]
    },
    {
     "name": "stdout",
     "output_type": "stream",
     "text": [
      "[LightGBM] [Warning] min_sum_hessian_in_leaf is set=0.08170754256230839, min_child_weight=0.001 will be ignored. Current value: min_sum_hessian_in_leaf=0.08170754256230839\n"
     ]
    },
    {
     "name": "stderr",
     "output_type": "stream",
     "text": [
      "C:\\Program Files\\Python38\\lib\\site-packages\\lightgbm\\basic.py:2065: UserWarning: Using categorical_feature in Dataset.\n",
      "  _log_warning('Using categorical_feature in Dataset.')\n"
     ]
    },
    {
     "name": "stdout",
     "output_type": "stream",
     "text": [
      "[LightGBM] [Warning] min_sum_hessian_in_leaf is set=0.04559274877300563, min_child_weight=0.001 will be ignored. Current value: min_sum_hessian_in_leaf=0.04559274877300563\n"
     ]
    },
    {
     "name": "stderr",
     "output_type": "stream",
     "text": [
      "C:\\Program Files\\Python38\\lib\\site-packages\\lightgbm\\basic.py:2065: UserWarning: Using categorical_feature in Dataset.\n",
      "  _log_warning('Using categorical_feature in Dataset.')\n"
     ]
    },
    {
     "name": "stdout",
     "output_type": "stream",
     "text": [
      "[LightGBM] [Warning] min_sum_hessian_in_leaf is set=0.05057939553441975, min_child_weight=0.001 will be ignored. Current value: min_sum_hessian_in_leaf=0.05057939553441975\n"
     ]
    },
    {
     "name": "stderr",
     "output_type": "stream",
     "text": [
      "C:\\Program Files\\Python38\\lib\\site-packages\\lightgbm\\basic.py:2065: UserWarning: Using categorical_feature in Dataset.\n",
      "  _log_warning('Using categorical_feature in Dataset.')\n",
      "C:\\Program Files\\Python38\\lib\\site-packages\\lightgbm\\basic.py:2065: UserWarning: Using categorical_feature in Dataset.\n",
      "  _log_warning('Using categorical_feature in Dataset.')\n",
      "C:\\Program Files\\Python38\\lib\\site-packages\\lightgbm\\basic.py:2065: UserWarning: Using categorical_feature in Dataset.\n",
      "  _log_warning('Using categorical_feature in Dataset.')\n",
      "C:\\Program Files\\Python38\\lib\\site-packages\\lightgbm\\basic.py:2065: UserWarning: Using categorical_feature in Dataset.\n",
      "  _log_warning('Using categorical_feature in Dataset.')\n",
      "C:\\Program Files\\Python38\\lib\\site-packages\\lightgbm\\basic.py:2065: UserWarning: Using categorical_feature in Dataset.\n",
      "  _log_warning('Using categorical_feature in Dataset.')\n"
     ]
    },
    {
     "name": "stdout",
     "output_type": "stream",
     "text": [
      "[LightGBM] [Warning] min_sum_hessian_in_leaf is set=0.08170754256230839, min_child_weight=0.001 will be ignored. Current value: min_sum_hessian_in_leaf=0.08170754256230839\n"
     ]
    },
    {
     "name": "stderr",
     "output_type": "stream",
     "text": [
      "C:\\Program Files\\Python38\\lib\\site-packages\\lightgbm\\basic.py:2065: UserWarning: Using categorical_feature in Dataset.\n",
      "  _log_warning('Using categorical_feature in Dataset.')\n"
     ]
    },
    {
     "name": "stdout",
     "output_type": "stream",
     "text": [
      "[LightGBM] [Warning] min_sum_hessian_in_leaf is set=0.04559274877300563, min_child_weight=0.001 will be ignored. Current value: min_sum_hessian_in_leaf=0.04559274877300563\n"
     ]
    },
    {
     "name": "stderr",
     "output_type": "stream",
     "text": [
      "C:\\Program Files\\Python38\\lib\\site-packages\\lightgbm\\basic.py:2065: UserWarning: Using categorical_feature in Dataset.\n",
      "  _log_warning('Using categorical_feature in Dataset.')\n"
     ]
    },
    {
     "name": "stdout",
     "output_type": "stream",
     "text": [
      "[LightGBM] [Warning] min_sum_hessian_in_leaf is set=0.05057939553441975, min_child_weight=0.001 will be ignored. Current value: min_sum_hessian_in_leaf=0.05057939553441975\n"
     ]
    },
    {
     "name": "stderr",
     "output_type": "stream",
     "text": [
      "C:\\Program Files\\Python38\\lib\\site-packages\\lightgbm\\basic.py:2065: UserWarning: Using categorical_feature in Dataset.\n",
      "  _log_warning('Using categorical_feature in Dataset.')\n",
      "C:\\Program Files\\Python38\\lib\\site-packages\\lightgbm\\basic.py:2065: UserWarning: Using categorical_feature in Dataset.\n",
      "  _log_warning('Using categorical_feature in Dataset.')\n",
      "C:\\Program Files\\Python38\\lib\\site-packages\\lightgbm\\basic.py:2065: UserWarning: Using categorical_feature in Dataset.\n",
      "  _log_warning('Using categorical_feature in Dataset.')\n",
      "C:\\Program Files\\Python38\\lib\\site-packages\\lightgbm\\basic.py:2065: UserWarning: Using categorical_feature in Dataset.\n",
      "  _log_warning('Using categorical_feature in Dataset.')\n",
      "C:\\Program Files\\Python38\\lib\\site-packages\\lightgbm\\basic.py:2065: UserWarning: Using categorical_feature in Dataset.\n",
      "  _log_warning('Using categorical_feature in Dataset.')\n"
     ]
    },
    {
     "name": "stdout",
     "output_type": "stream",
     "text": [
      "[LightGBM] [Warning] min_sum_hessian_in_leaf is set=0.08170754256230839, min_child_weight=0.001 will be ignored. Current value: min_sum_hessian_in_leaf=0.08170754256230839\n"
     ]
    },
    {
     "name": "stderr",
     "output_type": "stream",
     "text": [
      "C:\\Program Files\\Python38\\lib\\site-packages\\lightgbm\\basic.py:2065: UserWarning: Using categorical_feature in Dataset.\n",
      "  _log_warning('Using categorical_feature in Dataset.')\n"
     ]
    },
    {
     "name": "stdout",
     "output_type": "stream",
     "text": [
      "[LightGBM] [Warning] min_sum_hessian_in_leaf is set=0.04559274877300563, min_child_weight=0.001 will be ignored. Current value: min_sum_hessian_in_leaf=0.04559274877300563\n"
     ]
    },
    {
     "name": "stderr",
     "output_type": "stream",
     "text": [
      "C:\\Program Files\\Python38\\lib\\site-packages\\lightgbm\\basic.py:2065: UserWarning: Using categorical_feature in Dataset.\n",
      "  _log_warning('Using categorical_feature in Dataset.')\n"
     ]
    },
    {
     "name": "stdout",
     "output_type": "stream",
     "text": [
      "[LightGBM] [Warning] min_sum_hessian_in_leaf is set=0.05057939553441975, min_child_weight=0.001 will be ignored. Current value: min_sum_hessian_in_leaf=0.05057939553441975\n"
     ]
    },
    {
     "name": "stderr",
     "output_type": "stream",
     "text": [
      "C:\\Program Files\\Python38\\lib\\site-packages\\lightgbm\\basic.py:2065: UserWarning: Using categorical_feature in Dataset.\n",
      "  _log_warning('Using categorical_feature in Dataset.')\n",
      "C:\\Program Files\\Python38\\lib\\site-packages\\lightgbm\\basic.py:2065: UserWarning: Using categorical_feature in Dataset.\n",
      "  _log_warning('Using categorical_feature in Dataset.')\n",
      "C:\\Program Files\\Python38\\lib\\site-packages\\lightgbm\\basic.py:2065: UserWarning: Using categorical_feature in Dataset.\n",
      "  _log_warning('Using categorical_feature in Dataset.')\n",
      "C:\\Program Files\\Python38\\lib\\site-packages\\lightgbm\\basic.py:2065: UserWarning: Using categorical_feature in Dataset.\n",
      "  _log_warning('Using categorical_feature in Dataset.')\n",
      "C:\\Program Files\\Python38\\lib\\site-packages\\lightgbm\\basic.py:2065: UserWarning: Using categorical_feature in Dataset.\n",
      "  _log_warning('Using categorical_feature in Dataset.')\n"
     ]
    },
    {
     "name": "stdout",
     "output_type": "stream",
     "text": [
      "[LightGBM] [Warning] min_sum_hessian_in_leaf is set=0.08170754256230839, min_child_weight=0.001 will be ignored. Current value: min_sum_hessian_in_leaf=0.08170754256230839\n"
     ]
    },
    {
     "name": "stderr",
     "output_type": "stream",
     "text": [
      "C:\\Program Files\\Python38\\lib\\site-packages\\lightgbm\\basic.py:2065: UserWarning: Using categorical_feature in Dataset.\n",
      "  _log_warning('Using categorical_feature in Dataset.')\n"
     ]
    },
    {
     "name": "stdout",
     "output_type": "stream",
     "text": [
      "[LightGBM] [Warning] min_sum_hessian_in_leaf is set=0.04559274877300563, min_child_weight=0.001 will be ignored. Current value: min_sum_hessian_in_leaf=0.04559274877300563\n"
     ]
    },
    {
     "name": "stderr",
     "output_type": "stream",
     "text": [
      "C:\\Program Files\\Python38\\lib\\site-packages\\lightgbm\\basic.py:2065: UserWarning: Using categorical_feature in Dataset.\n",
      "  _log_warning('Using categorical_feature in Dataset.')\n"
     ]
    },
    {
     "name": "stdout",
     "output_type": "stream",
     "text": [
      "[LightGBM] [Warning] min_sum_hessian_in_leaf is set=0.05057939553441975, min_child_weight=0.001 will be ignored. Current value: min_sum_hessian_in_leaf=0.05057939553441975\n"
     ]
    },
    {
     "name": "stderr",
     "output_type": "stream",
     "text": [
      "C:\\Program Files\\Python38\\lib\\site-packages\\lightgbm\\basic.py:2065: UserWarning: Using categorical_feature in Dataset.\n",
      "  _log_warning('Using categorical_feature in Dataset.')\n",
      "C:\\Program Files\\Python38\\lib\\site-packages\\lightgbm\\basic.py:2065: UserWarning: Using categorical_feature in Dataset.\n",
      "  _log_warning('Using categorical_feature in Dataset.')\n",
      "C:\\Program Files\\Python38\\lib\\site-packages\\lightgbm\\basic.py:2065: UserWarning: Using categorical_feature in Dataset.\n",
      "  _log_warning('Using categorical_feature in Dataset.')\n",
      "C:\\Program Files\\Python38\\lib\\site-packages\\lightgbm\\basic.py:2065: UserWarning: Using categorical_feature in Dataset.\n",
      "  _log_warning('Using categorical_feature in Dataset.')\n",
      "C:\\Program Files\\Python38\\lib\\site-packages\\lightgbm\\basic.py:2065: UserWarning: Using categorical_feature in Dataset.\n",
      "  _log_warning('Using categorical_feature in Dataset.')\n"
     ]
    },
    {
     "name": "stdout",
     "output_type": "stream",
     "text": [
      "[LightGBM] [Warning] min_sum_hessian_in_leaf is set=0.08170754256230839, min_child_weight=0.001 will be ignored. Current value: min_sum_hessian_in_leaf=0.08170754256230839\n"
     ]
    },
    {
     "name": "stderr",
     "output_type": "stream",
     "text": [
      "C:\\Program Files\\Python38\\lib\\site-packages\\lightgbm\\basic.py:2065: UserWarning: Using categorical_feature in Dataset.\n",
      "  _log_warning('Using categorical_feature in Dataset.')\n"
     ]
    },
    {
     "name": "stdout",
     "output_type": "stream",
     "text": [
      "[LightGBM] [Warning] min_sum_hessian_in_leaf is set=0.04559274877300563, min_child_weight=0.001 will be ignored. Current value: min_sum_hessian_in_leaf=0.04559274877300563\n"
     ]
    },
    {
     "name": "stderr",
     "output_type": "stream",
     "text": [
      "C:\\Program Files\\Python38\\lib\\site-packages\\lightgbm\\basic.py:2065: UserWarning: Using categorical_feature in Dataset.\n",
      "  _log_warning('Using categorical_feature in Dataset.')\n"
     ]
    },
    {
     "name": "stdout",
     "output_type": "stream",
     "text": [
      "[LightGBM] [Warning] min_sum_hessian_in_leaf is set=0.05057939553441975, min_child_weight=0.001 will be ignored. Current value: min_sum_hessian_in_leaf=0.05057939553441975\n"
     ]
    },
    {
     "name": "stderr",
     "output_type": "stream",
     "text": [
      "C:\\Program Files\\Python38\\lib\\site-packages\\lightgbm\\basic.py:2065: UserWarning: Using categorical_feature in Dataset.\n",
      "  _log_warning('Using categorical_feature in Dataset.')\n",
      "C:\\Program Files\\Python38\\lib\\site-packages\\lightgbm\\basic.py:2065: UserWarning: Using categorical_feature in Dataset.\n",
      "  _log_warning('Using categorical_feature in Dataset.')\n",
      "C:\\Program Files\\Python38\\lib\\site-packages\\lightgbm\\basic.py:2065: UserWarning: Using categorical_feature in Dataset.\n",
      "  _log_warning('Using categorical_feature in Dataset.')\n",
      "C:\\Program Files\\Python38\\lib\\site-packages\\lightgbm\\basic.py:2065: UserWarning: Using categorical_feature in Dataset.\n",
      "  _log_warning('Using categorical_feature in Dataset.')\n",
      "C:\\Program Files\\Python38\\lib\\site-packages\\lightgbm\\basic.py:2065: UserWarning: Using categorical_feature in Dataset.\n",
      "  _log_warning('Using categorical_feature in Dataset.')\n"
     ]
    },
    {
     "name": "stdout",
     "output_type": "stream",
     "text": [
      "[LightGBM] [Warning] min_sum_hessian_in_leaf is set=0.08170754256230839, min_child_weight=0.001 will be ignored. Current value: min_sum_hessian_in_leaf=0.08170754256230839\n"
     ]
    },
    {
     "name": "stderr",
     "output_type": "stream",
     "text": [
      "C:\\Program Files\\Python38\\lib\\site-packages\\lightgbm\\basic.py:2065: UserWarning: Using categorical_feature in Dataset.\n",
      "  _log_warning('Using categorical_feature in Dataset.')\n"
     ]
    },
    {
     "name": "stdout",
     "output_type": "stream",
     "text": [
      "[LightGBM] [Warning] min_sum_hessian_in_leaf is set=0.04559274877300563, min_child_weight=0.001 will be ignored. Current value: min_sum_hessian_in_leaf=0.04559274877300563\n"
     ]
    },
    {
     "name": "stderr",
     "output_type": "stream",
     "text": [
      "C:\\Program Files\\Python38\\lib\\site-packages\\lightgbm\\basic.py:2065: UserWarning: Using categorical_feature in Dataset.\n",
      "  _log_warning('Using categorical_feature in Dataset.')\n"
     ]
    },
    {
     "name": "stdout",
     "output_type": "stream",
     "text": [
      "[LightGBM] [Warning] min_sum_hessian_in_leaf is set=0.05057939553441975, min_child_weight=0.001 will be ignored. Current value: min_sum_hessian_in_leaf=0.05057939553441975\n"
     ]
    },
    {
     "name": "stderr",
     "output_type": "stream",
     "text": [
      "C:\\Program Files\\Python38\\lib\\site-packages\\lightgbm\\basic.py:2065: UserWarning: Using categorical_feature in Dataset.\n",
      "  _log_warning('Using categorical_feature in Dataset.')\n",
      "C:\\Program Files\\Python38\\lib\\site-packages\\lightgbm\\basic.py:2065: UserWarning: Using categorical_feature in Dataset.\n",
      "  _log_warning('Using categorical_feature in Dataset.')\n",
      "C:\\Program Files\\Python38\\lib\\site-packages\\lightgbm\\basic.py:2065: UserWarning: Using categorical_feature in Dataset.\n",
      "  _log_warning('Using categorical_feature in Dataset.')\n",
      "C:\\Program Files\\Python38\\lib\\site-packages\\lightgbm\\basic.py:2065: UserWarning: Using categorical_feature in Dataset.\n",
      "  _log_warning('Using categorical_feature in Dataset.')\n",
      "C:\\Program Files\\Python38\\lib\\site-packages\\lightgbm\\basic.py:2065: UserWarning: Using categorical_feature in Dataset.\n",
      "  _log_warning('Using categorical_feature in Dataset.')\n"
     ]
    },
    {
     "name": "stdout",
     "output_type": "stream",
     "text": [
      "[LightGBM] [Warning] min_sum_hessian_in_leaf is set=0.08170754256230839, min_child_weight=0.001 will be ignored. Current value: min_sum_hessian_in_leaf=0.08170754256230839\n"
     ]
    },
    {
     "name": "stderr",
     "output_type": "stream",
     "text": [
      "C:\\Program Files\\Python38\\lib\\site-packages\\lightgbm\\basic.py:2065: UserWarning: Using categorical_feature in Dataset.\n",
      "  _log_warning('Using categorical_feature in Dataset.')\n"
     ]
    },
    {
     "name": "stdout",
     "output_type": "stream",
     "text": [
      "[LightGBM] [Warning] min_sum_hessian_in_leaf is set=0.04559274877300563, min_child_weight=0.001 will be ignored. Current value: min_sum_hessian_in_leaf=0.04559274877300563\n"
     ]
    },
    {
     "name": "stderr",
     "output_type": "stream",
     "text": [
      "C:\\Program Files\\Python38\\lib\\site-packages\\lightgbm\\basic.py:2065: UserWarning: Using categorical_feature in Dataset.\n",
      "  _log_warning('Using categorical_feature in Dataset.')\n"
     ]
    },
    {
     "name": "stdout",
     "output_type": "stream",
     "text": [
      "[LightGBM] [Warning] min_sum_hessian_in_leaf is set=0.05057939553441975, min_child_weight=0.001 will be ignored. Current value: min_sum_hessian_in_leaf=0.05057939553441975\n"
     ]
    },
    {
     "name": "stderr",
     "output_type": "stream",
     "text": [
      "C:\\Program Files\\Python38\\lib\\site-packages\\lightgbm\\basic.py:2065: UserWarning: Using categorical_feature in Dataset.\n",
      "  _log_warning('Using categorical_feature in Dataset.')\n",
      "C:\\Program Files\\Python38\\lib\\site-packages\\lightgbm\\basic.py:2065: UserWarning: Using categorical_feature in Dataset.\n",
      "  _log_warning('Using categorical_feature in Dataset.')\n",
      "C:\\Program Files\\Python38\\lib\\site-packages\\lightgbm\\basic.py:2065: UserWarning: Using categorical_feature in Dataset.\n",
      "  _log_warning('Using categorical_feature in Dataset.')\n",
      "C:\\Program Files\\Python38\\lib\\site-packages\\lightgbm\\basic.py:2065: UserWarning: Using categorical_feature in Dataset.\n",
      "  _log_warning('Using categorical_feature in Dataset.')\n",
      "C:\\Program Files\\Python38\\lib\\site-packages\\lightgbm\\basic.py:2065: UserWarning: Using categorical_feature in Dataset.\n",
      "  _log_warning('Using categorical_feature in Dataset.')\n"
     ]
    },
    {
     "name": "stdout",
     "output_type": "stream",
     "text": [
      "[LightGBM] [Warning] min_sum_hessian_in_leaf is set=0.08170754256230839, min_child_weight=0.001 will be ignored. Current value: min_sum_hessian_in_leaf=0.08170754256230839\n"
     ]
    },
    {
     "name": "stderr",
     "output_type": "stream",
     "text": [
      "C:\\Program Files\\Python38\\lib\\site-packages\\lightgbm\\basic.py:2065: UserWarning: Using categorical_feature in Dataset.\n",
      "  _log_warning('Using categorical_feature in Dataset.')\n"
     ]
    },
    {
     "name": "stdout",
     "output_type": "stream",
     "text": [
      "[LightGBM] [Warning] min_sum_hessian_in_leaf is set=0.04559274877300563, min_child_weight=0.001 will be ignored. Current value: min_sum_hessian_in_leaf=0.04559274877300563\n"
     ]
    },
    {
     "name": "stderr",
     "output_type": "stream",
     "text": [
      "C:\\Program Files\\Python38\\lib\\site-packages\\lightgbm\\basic.py:2065: UserWarning: Using categorical_feature in Dataset.\n",
      "  _log_warning('Using categorical_feature in Dataset.')\n"
     ]
    },
    {
     "name": "stdout",
     "output_type": "stream",
     "text": [
      "[LightGBM] [Warning] min_sum_hessian_in_leaf is set=0.05057939553441975, min_child_weight=0.001 will be ignored. Current value: min_sum_hessian_in_leaf=0.05057939553441975\n"
     ]
    },
    {
     "name": "stderr",
     "output_type": "stream",
     "text": [
      "C:\\Program Files\\Python38\\lib\\site-packages\\lightgbm\\basic.py:2065: UserWarning: Using categorical_feature in Dataset.\n",
      "  _log_warning('Using categorical_feature in Dataset.')\n",
      "C:\\Program Files\\Python38\\lib\\site-packages\\lightgbm\\basic.py:2065: UserWarning: Using categorical_feature in Dataset.\n",
      "  _log_warning('Using categorical_feature in Dataset.')\n",
      "C:\\Program Files\\Python38\\lib\\site-packages\\lightgbm\\basic.py:2065: UserWarning: Using categorical_feature in Dataset.\n",
      "  _log_warning('Using categorical_feature in Dataset.')\n",
      "C:\\Program Files\\Python38\\lib\\site-packages\\lightgbm\\basic.py:2065: UserWarning: Using categorical_feature in Dataset.\n",
      "  _log_warning('Using categorical_feature in Dataset.')\n",
      "C:\\Program Files\\Python38\\lib\\site-packages\\lightgbm\\basic.py:2065: UserWarning: Using categorical_feature in Dataset.\n",
      "  _log_warning('Using categorical_feature in Dataset.')\n"
     ]
    },
    {
     "name": "stdout",
     "output_type": "stream",
     "text": [
      "[LightGBM] [Warning] min_sum_hessian_in_leaf is set=0.08170754256230839, min_child_weight=0.001 will be ignored. Current value: min_sum_hessian_in_leaf=0.08170754256230839\n"
     ]
    },
    {
     "name": "stderr",
     "output_type": "stream",
     "text": [
      "C:\\Program Files\\Python38\\lib\\site-packages\\lightgbm\\basic.py:2065: UserWarning: Using categorical_feature in Dataset.\n",
      "  _log_warning('Using categorical_feature in Dataset.')\n"
     ]
    },
    {
     "name": "stdout",
     "output_type": "stream",
     "text": [
      "[LightGBM] [Warning] min_sum_hessian_in_leaf is set=0.04559274877300563, min_child_weight=0.001 will be ignored. Current value: min_sum_hessian_in_leaf=0.04559274877300563\n"
     ]
    },
    {
     "name": "stderr",
     "output_type": "stream",
     "text": [
      "C:\\Program Files\\Python38\\lib\\site-packages\\lightgbm\\basic.py:2065: UserWarning: Using categorical_feature in Dataset.\n",
      "  _log_warning('Using categorical_feature in Dataset.')\n"
     ]
    },
    {
     "name": "stdout",
     "output_type": "stream",
     "text": [
      "[LightGBM] [Warning] min_sum_hessian_in_leaf is set=0.05057939553441975, min_child_weight=0.001 will be ignored. Current value: min_sum_hessian_in_leaf=0.05057939553441975\n"
     ]
    },
    {
     "name": "stderr",
     "output_type": "stream",
     "text": [
      "C:\\Program Files\\Python38\\lib\\site-packages\\lightgbm\\basic.py:2065: UserWarning: Using categorical_feature in Dataset.\n",
      "  _log_warning('Using categorical_feature in Dataset.')\n",
      "C:\\Program Files\\Python38\\lib\\site-packages\\lightgbm\\basic.py:2065: UserWarning: Using categorical_feature in Dataset.\n",
      "  _log_warning('Using categorical_feature in Dataset.')\n",
      "C:\\Program Files\\Python38\\lib\\site-packages\\lightgbm\\basic.py:2065: UserWarning: Using categorical_feature in Dataset.\n",
      "  _log_warning('Using categorical_feature in Dataset.')\n",
      "C:\\Program Files\\Python38\\lib\\site-packages\\lightgbm\\basic.py:2065: UserWarning: Using categorical_feature in Dataset.\n",
      "  _log_warning('Using categorical_feature in Dataset.')\n"
     ]
    }
   ],
   "source": [
    "with open('ovo_params.pickle', 'rb') as handle:\n",
    "    ovo_params = pickle.load(handle)\n",
    "\n",
    "X, At = ovo_bagged_fit_predict(X_TRAIN, y, X_TEST, ovo_params, 5, [333, 444, 555, 777, 888]) #[i for i in range(77,77*11,77)]\n",
    "Ad = X"
   ]
  },
  {
   "cell_type": "code",
   "execution_count": 120,
   "metadata": {},
   "outputs": [],
   "source": [
    "def calculate_ovo_score(X):\n",
    "    votes = np.zeros((X.shape[0], 3))\n",
    "    sum_of_conf = np.zeros((X.shape[0], 3))\n",
    "\n",
    "    votes[X[:,0]>0.5, 0] += 1\n",
    "    votes[X[:,0]<=0.5, 1] += 1\n",
    "\n",
    "    votes[X[:,1]>0.5, 0] += 1\n",
    "    votes[X[:,1]<=0.5, 2] += 1\n",
    "\n",
    "    votes[X[:,2]>0.5, 1] += 1\n",
    "    votes[X[:,2]<=0.5, 2] += 1\n",
    "\n",
    "    sum_of_conf[:, 0] -= X[:,0]\n",
    "    sum_of_conf[:, 1] += X[:,0]\n",
    "\n",
    "    sum_of_conf[:, 0] -= X[:,1]\n",
    "    sum_of_conf[:, 2] += X[:,1]\n",
    "\n",
    "    sum_of_conf[:, 1] -= X[:,2]\n",
    "    sum_of_conf[:, 2] += X[:,2]\n",
    "\n",
    "    transformed_confidences = sum_of_conf / (\n",
    "        3 * (np.abs(sum_of_conf) + 1)\n",
    "    )\n",
    "    return votes + transformed_confidences"
   ]
  },
  {
   "cell_type": "code",
   "execution_count": 121,
   "metadata": {},
   "outputs": [
    {
     "data": {
      "text/plain": [
       "0.8044879375630695"
      ]
     },
     "execution_count": 121,
     "metadata": {},
     "output_type": "execute_result"
    }
   ],
   "source": [
    "yp = np.array([-1, 3, 4])[np.argmax(calculate_ovo_score(At), axis=1)] #Cd\n",
    "f1_score(y, yp, average=\"macro\")"
   ]
  },
  {
   "cell_type": "code",
   "execution_count": 135,
   "metadata": {},
   "outputs": [],
   "source": [
    "def transform2metafeat(A, C):\n",
    "    X = A\n",
    "    votes = np.zeros((X.shape[0], 3))\n",
    "    sum_of_conf = np.zeros((X.shape[0], 3))\n",
    "\n",
    "    votes[X[:,0]>0.5, 0] += 1\n",
    "    votes[X[:,0]<=0.5, 1] += 1\n",
    "\n",
    "    votes[X[:,1]>0.5, 0] += 1\n",
    "    votes[X[:,1]<=0.5, 2] += 1\n",
    "\n",
    "    votes[X[:,2]>0.5, 1] += 1\n",
    "    votes[X[:,2]<=0.5, 2] += 1\n",
    "\n",
    "    sum_of_conf[:, 0] -= X[:,0]\n",
    "    sum_of_conf[:, 1] += X[:,0]\n",
    "\n",
    "    sum_of_conf[:, 0] -= X[:,1]\n",
    "    sum_of_conf[:, 2] += X[:,1]\n",
    "\n",
    "    sum_of_conf[:, 1] -= X[:,2]\n",
    "    sum_of_conf[:, 2] += X[:,2]\n",
    "\n",
    "    transformed_confidences = sum_of_conf / (\n",
    "        3 * (np.abs(sum_of_conf) + 1)\n",
    "    )\n",
    "        \n",
    "    Am = np.zeros((A.shape[0],3))\n",
    "    for i, j in zip(np.arange(A.shape[0]), (votes+transformed_confidences).argmax(axis=1)):\n",
    "        Am[i, j] = 1\n",
    "        \n",
    "    Cm = np.zeros((C.shape[0],3))\n",
    "    for i, j in zip(np.arange(A.shape[0]), C.argmax(axis=1)):\n",
    "        Cm[i, j] = 1\n",
    "    \n",
    "    \n",
    "    \n",
    "    #return np.hstack([B, Am, Bm,\n",
    "    #    X, votes, transformed_confidences , votes+transformed_confidences, C])\n",
    "    return np.hstack([C, Cm, Am[:,:], X[:,:]])"
   ]
  },
  {
   "cell_type": "code",
   "execution_count": 151,
   "metadata": {},
   "outputs": [],
   "source": [
    "mft = transform2metafeat(At, Ct)\n",
    "mfd = transform2metafeat(Ad, Cd)\n",
    "\n",
    "model=LogisticRegression(class_weight=\"balanced\", multi_class = 'multinomial', max_iter=1000, C=0.000001) #MLPClassifier(hidden_layer_sizes=(20,), alpha=0.1) #ExtraTreesClassifier(n_estimators=2000, criterion='entropy', max_depth=None,  min_samples_leaf=100)\n",
    "\n",
    "model.fit(mft, y)\n",
    "\n",
    "ypred = model.predict(mfd)\n"
   ]
  },
  {
   "cell_type": "code",
   "execution_count": 152,
   "metadata": {},
   "outputs": [],
   "source": [
    "subm = pd.read_csv(\"sample_submission.csv\")\n",
    "subm[\"Статус\"] = ypred\n",
    "subm.to_csv(\"rez_stacked.csv\", encoding='utf-8', sep=',', index=False)"
   ]
  },
  {
   "cell_type": "code",
   "execution_count": 153,
   "metadata": {},
   "outputs": [
    {
     "data": {
      "text/plain": [
       "array([[ 349,   39,    1],\n",
       "       [   0, 2057,    0],\n",
       "       [   3,   44, 4198]], dtype=int64)"
      ]
     },
     "execution_count": 153,
     "metadata": {},
     "output_type": "execute_result"
    }
   ],
   "source": [
    "import pandas as pd\n",
    "subm_an = pd.read_csv(\"rez_stacked.csv\")\n",
    "subm = pd.read_csv(\"rez.csv\")\n",
    "a = subm_an[\"Статус\"].values\n",
    "b = subm[\"Статус\"].values\n",
    "from sklearn.metrics import confusion_matrix\n",
    "confusion_matrix(a, b)"
   ]
  },
  {
   "cell_type": "code",
   "execution_count": 154,
   "metadata": {},
   "outputs": [
    {
     "data": {
      "text/plain": [
       "array([[2.22376577e-01, 6.04549150e-04, 3.96270647e-03],\n",
       "       [6.56151020e-02, 1.90558625e-03, 1.61825770e-03],\n",
       "       [6.50833409e-01, 1.23668699e-01, 6.32549453e-01],\n",
       "       ...,\n",
       "       [5.72259246e-02, 1.09015090e-03, 1.09331964e-02],\n",
       "       [9.50506794e-03, 8.85701288e-05, 6.85858052e-02],\n",
       "       [2.97426134e-03, 2.97520976e-05, 9.49939080e-01]])"
      ]
     },
     "execution_count": 154,
     "metadata": {},
     "output_type": "execute_result"
    }
   ],
   "source": []
  },
  {
   "cell_type": "code",
   "execution_count": null,
   "metadata": {},
   "outputs": [],
   "source": []
  }
 ],
 "metadata": {
  "kernelspec": {
   "display_name": "Python 3 (ipykernel)",
   "language": "python",
   "name": "python3"
  },
  "language_info": {
   "codemirror_mode": {
    "name": "ipython",
    "version": 3
   },
   "file_extension": ".py",
   "mimetype": "text/x-python",
   "name": "python",
   "nbconvert_exporter": "python",
   "pygments_lexer": "ipython3",
   "version": "3.8.2"
  }
 },
 "nbformat": 4,
 "nbformat_minor": 4
}
